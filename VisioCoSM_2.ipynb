{
 "cells": [
  {
   "cell_type": "markdown",
   "metadata": {
    "id": "v_hvqVfJpBBF"
   },
   "source": [
    "<h2>Pick and Place with Vision</h2>\n",
    "\n",
    "<br>Richiede 'sim.py', 'simConst.py', 'remoteapi.dll' all'interno della stessa cartella del notebook jupyter.</br> \n",
    "<br> La scena implementata per CoppeliaSim è: MTB_Pick_N_Place.ttt</br> \n"
   ]
  },
  {
   "cell_type": "code",
   "execution_count": 246,
   "metadata": {
    "id": "37toPaJipBBH"
   },
   "outputs": [],
   "source": [
    "# Importiamo le librerie necessarie\n",
    "import sim          # libreria per connettersi con CoppeliaSim\n",
    "import sympy as sp  # libreria per il calcolo simbolico\n",
    "import time\n",
    "import cv2                      # opencv\n",
    "import matplotlib.pyplot as plt # pyplot\n",
    "import numpy as np "
   ]
  },
  {
   "cell_type": "markdown",
   "metadata": {
    "id": "uuMMNEajpBBI"
   },
   "source": [
    "### 0. Verifichiamo che tutto funzioni...\n",
    "\n",
    "Il robot ha una ventosa all'estremità. Si attiva automaticamente quando ci si avvicina al cubo (1 mm o meno) e si disattiva quando il cubo viene posizionato sulla piattaforma (5 mm o meno)."
   ]
  },
  {
   "cell_type": "code",
   "execution_count": 247,
   "metadata": {
    "id": "CCVUv1jYpBBJ"
   },
   "outputs": [],
   "source": [
    "def connect(port):\n",
    "#Stabilire una connessione a VREP\n",
    "#la porta deve corrispondere alla porta di connessione in VREP\n",
    "#restituisce il numero del client o -1 se non riesce a stabilire una connessione\n",
    "    sim.simxFinish(-1) # just in case, close all opened connections\n",
    "    clientID=sim.simxStart('127.0.0.1',port,True,True,2000,5) # Connection\n",
    "    if clientID == 0: print(\"connected to\", port)\n",
    "    else: print(\"Could not connect\")\n",
    "    return clientID\n"
   ]
  },
  {
   "cell_type": "code",
   "execution_count": 248,
   "metadata": {
    "id": "QZfPSMWXpBBK"
   },
   "outputs": [],
   "source": [
    "def setEffector(val):\n",
    "# Azionare l'end-effector\n",
    "# val è un Int con valore 0 o 1 per disabilitare o abilitare l'attuatore finale.\n",
    "    res,retInts,retFloats,retStrings,retBuffer=sim.simxCallScriptFunction(clientID,\n",
    "        \"suctionPad\", sim.sim_scripttype_childscript,\"setEffector\",[val],[],[],\"\", sim.simx_opmode_blocking)\n",
    "    return res"
   ]
  },
  {
   "cell_type": "code",
   "execution_count": 249,
   "metadata": {
    "id": "-A-_EkM_pBBL",
    "outputId": "d2306480-098b-4124-c70e-a6b553158dde"
   },
   "outputs": [
    {
     "name": "stdout",
     "output_type": "stream",
     "text": [
      "connected to 19999\n",
      "33 17 20 23 26 35 36\n"
     ]
    }
   ],
   "source": [
    "# Abbiamo bisogno delle \"handle\" per le articolazioni e il manipulator\n",
    "clientID = connect(19999)\n",
    "\n",
    "retCode,effector=sim.simxGetObjectHandle(clientID,'effector',sim.simx_opmode_blocking)\n",
    "retCode,joint1=sim.simxGetObjectHandle(clientID,'MTB_joint1',sim.simx_opmode_blocking)\n",
    "retCode,joint2=sim.simxGetObjectHandle(clientID,'MTB_joint2',sim.simx_opmode_blocking)\n",
    "retCode,joint3=sim.simxGetObjectHandle(clientID,'MTB_joint3',sim.simx_opmode_blocking)\n",
    "retCode,joint4=sim.simxGetObjectHandle(clientID,'MTB_joint4',sim.simx_opmode_blocking)\n",
    "retCode,cuboRosso=sim.simxGetObjectHandle(clientID,'CuboRosso',sim.simx_opmode_blocking)\n",
    "retCode,cuboBlu=sim.simxGetObjectHandle(clientID,'CuboBlu',sim.simx_opmode_blocking)\n",
    "\n",
    "print(effector, joint1, joint2, joint3, joint4, cuboRosso, cuboBlu)"
   ]
  },
  {
   "cell_type": "code",
   "execution_count": 250,
   "metadata": {
    "id": "_Ec9QDy4pBBL"
   },
   "outputs": [],
   "source": [
    "# Inviamo le posizioni alle articolazioni\n",
    "q = [0, 0, 0.0]\n",
    "\n",
    "retCode = sim.simxSetJointTargetPosition(clientID, joint1, q[0], sim.simx_opmode_oneshot)\n",
    "retCode = sim.simxSetJointTargetPosition(clientID, joint2, q[1], sim.simx_opmode_oneshot)\n",
    "retCode = sim.simxSetJointTargetPosition(clientID, joint3, q[2], sim.simx_opmode_oneshot)\n"
   ]
  },
  {
   "cell_type": "code",
   "execution_count": 251,
   "metadata": {
    "id": "zT-wy4ydpBBM",
    "outputId": "bad02ff8-8d8c-453d-e119-65d4d62fffd0"
   },
   "outputs": [
    {
     "data": {
      "text/plain": [
       "0"
      ]
     },
     "execution_count": 251,
     "metadata": {},
     "output_type": "execute_result"
    }
   ],
   "source": [
    "# Attiviamo o disattiviamo l'attuatore finale\n",
    "setEffector(0)"
   ]
  },
  {
   "cell_type": "markdown",
   "metadata": {
    "id": "g177IE6XpBBM"
   },
   "source": [
    "###  1. Prepariamo le informazioni necessarie\n",
    "Dalla matrice della cinematica diretta calcoliamo la cinematica inversa."
   ]
  },
  {
   "cell_type": "code",
   "execution_count": 252,
   "metadata": {
    "id": "B_lkq7IVpBBN",
    "outputId": "dbc99c6d-cbac-45ce-ec0f-62bad432742d"
   },
   "outputs": [
    {
     "data": {
      "text/latex": [
       "$\\displaystyle \\left[\\begin{matrix}\\cos{\\left(q_{1} + q_{2} + q_{4} \\right)} & - \\sin{\\left(q_{1} + q_{2} + q_{4} \\right)} & 0 & 0.467 \\cos{\\left(q_{1} \\right)} + 0.4005 \\cos{\\left(q_{1} + q_{2} \\right)}\\\\\\sin{\\left(q_{1} + q_{2} + q_{4} \\right)} & \\cos{\\left(q_{1} + q_{2} + q_{4} \\right)} & 0 & 0.467 \\sin{\\left(q_{1} \\right)} + 0.4005 \\sin{\\left(q_{1} + q_{2} \\right)}\\\\0 & 0 & 1 & 0.234 - q_{3}\\\\0 & 0 & 0 & 1\\end{matrix}\\right]$"
      ],
      "text/plain": [
       "Matrix([\n",
       "[cos(q1 + q2 + q4), -sin(q1 + q2 + q4), 0, 0.467*cos(q1) + 0.4005*cos(q1 + q2)],\n",
       "[sin(q1 + q2 + q4),  cos(q1 + q2 + q4), 0, 0.467*sin(q1) + 0.4005*sin(q1 + q2)],\n",
       "[                0,                  0, 1,                          0.234 - q3],\n",
       "[                0,                  0, 0,                                   1]])"
      ]
     },
     "execution_count": 252,
     "metadata": {},
     "output_type": "execute_result"
    }
   ],
   "source": [
    "# 1. Espressioni della cinematica diretta\n",
    "\n",
    "q1 = sp.symbols('q1') # angolo dell'articolazione rotazionale joint1, in radianti\n",
    "q2 = sp.symbols('q2') # angolo dell'articolazione rotazionale joint2, in radianti\n",
    "q3 = sp.symbols('q3') # posizione dell'articolazione prismatica joint3, in metri\n",
    "q4 = sp.symbols('q4') # angolo dell'articolazione rotazionale joint4, in radianti\n",
    "\n",
    "T = sp.Matrix([[sp.cos(q1 + q2 + q4), -sp.sin(q1 + q2 + q4), 0, 0.467*sp.cos(q1) + 0.4005*sp.cos(q1 + q2)],\n",
    "            [sp.sin(q1 + q2 + q4), sp.cos(q1 + q2 + q4), 0, 0.467*sp.sin(q1) + 0.4005*sp.sin(q1 + q2)], \n",
    "            [0, 0, 1, 0.234 - q3], \n",
    "            [0, 0, 0, 1]])\n",
    "T"
   ]
  },
  {
   "cell_type": "markdown",
   "metadata": {
    "id": "ynoBqR1spBBO"
   },
   "source": [
    "###  2. Otteniamo la posizione del punto di destinazione\n"
   ]
  },
  {
   "cell_type": "code",
   "execution_count": 253,
   "metadata": {
    "id": "eBxnnnRspBBP"
   },
   "outputs": [],
   "source": [
    "def matrixFromPose(pose):\n",
    "    # pose = [x, y, z, alpha, beta, gamma]\n",
    "    # x, y, z en metros\n",
    "    # alpha, beta, gamma en radianes\n",
    "    x, y, z = pose[0], pose[1], pose[2]\n",
    "    alpha, beta, gamma = pose[3], pose[4], pose[5]\n",
    "    Ra = sp.Matrix([[1, 0, 0, 0],\n",
    "                   [0, sp.cos(alpha), -sp.sin(alpha), 0],\n",
    "                   [0, sp.sin(alpha), sp.cos(alpha), 0],\n",
    "                   [0, 0, 0, 1]])\n",
    "    Rb = sp.Matrix([[sp.cos(beta), 0, sp.sin(beta), 0],\n",
    "                   [0, 1, 0, 0],\n",
    "                   [-sp.sin(beta), 0, sp.cos(beta), 0],\n",
    "                   [0, 0, 0, 1]])\n",
    "    Rc = sp.Matrix([[sp.cos(gamma), -sp.sin(gamma), 0, 0],\n",
    "                   [sp.sin(gamma), sp.cos(gamma), 0, 0],\n",
    "                   [0, 0, 1, 0],\n",
    "                   [0, 0, 0, 1]])\n",
    "    T = Ra*Rb*Rc\n",
    "    T[0,3] = x\n",
    "    T[1,3] = y\n",
    "    T[2,3] = z\n",
    "    return T\n",
    "\n",
    "# Definiamo una funzione per costruire la matrice di rotazione\n",
    "# Partendo dagli angoli di Eulero\n",
    "\n",
    "def matrixFromEuler(alpha, beta, gamma):\n",
    "    # theta y alpha en radianes\n",
    "    # d y a en metros\n",
    "    Ra = sp.Matrix([[1, 0, 0, 0],\n",
    "                   [0, sp.cos(alpha), -sp.sin(alpha), 0],\n",
    "                   [0, sp.sin(alpha), sp.cos(alpha), 0],\n",
    "                   [0, 0, 0, 1]])\n",
    "    Rb = sp.Matrix([[sp.cos(beta), 0, sp.sin(beta), 0],\n",
    "                   [0, 1, 0, 0],\n",
    "                   [-sp.sin(beta), 0, sp.cos(beta), 0],\n",
    "                   [0, 0, 0, 1]])\n",
    "    Rc = sp.Matrix([[sp.cos(gamma), -sp.sin(gamma), 0, 0],\n",
    "                   [sp.sin(gamma), sp.cos(gamma), 0, 0],\n",
    "                   [0, 0, 1, 0],\n",
    "                   [0, 0, 0, 1]])\n",
    "    T = Ra*Rb*Rc\n",
    "    return T\n",
    "\n",
    "# Connettiti al server e ottieni handle\n",
    "def getHandlers():\n",
    "    retCode,effector=sim.simxGetObjectHandle(clientID,'effector',sim.simx_opmode_blocking)\n",
    "    retCode,target=sim.simxGetObjectHandle(clientID,'CuboRosso',sim.simx_opmode_blocking)\n",
    "    retCode,joint1=sim.simxGetObjectHandle(clientID,'MTB_joint1',sim.simx_opmode_blocking)\n",
    "    retCode,joint2=sim.simxGetObjectHandle(clientID,'MTB_joint2',sim.simx_opmode_blocking)\n",
    "    retCode,joint3=sim.simxGetObjectHandle(clientID,'MTB_joint3',sim.simx_opmode_blocking)\n",
    "    retCode,joint4=sim.simxGetObjectHandle(clientID,'MTB_joint4',sim.simx_opmode_blocking)\n",
    "    joint = [joint1, joint2, joint3, joint4]\n",
    "    return joint, effector, target"
   ]
  },
  {
   "cell_type": "code",
   "execution_count": 254,
   "metadata": {
    "id": "ofZ3TfDJpBBQ",
    "outputId": "884d736f-b3f6-4b0a-efce-1d2dba4758c6"
   },
   "outputs": [
    {
     "data": {
      "text/latex": [
       "$\\displaystyle \\left[\\begin{matrix}\\frac{\\sqrt{2}}{2} & - \\frac{\\sqrt{2}}{2} & 0 & 0\\\\\\frac{1}{2} & \\frac{1}{2} & - \\frac{\\sqrt{2}}{2} & 0\\\\\\frac{1}{2} & \\frac{1}{2} & \\frac{\\sqrt{2}}{2} & 0\\\\0 & 0 & 0 & 1\\end{matrix}\\right]$"
      ],
      "text/plain": [
       "Matrix([\n",
       "[sqrt(2)/2, -sqrt(2)/2,          0, 0],\n",
       "[      1/2,        1/2, -sqrt(2)/2, 0],\n",
       "[      1/2,        1/2,  sqrt(2)/2, 0],\n",
       "[        0,          0,          0, 1]])"
      ]
     },
     "execution_count": 254,
     "metadata": {},
     "output_type": "execute_result"
    }
   ],
   "source": [
    "matrixFromEuler(45*sp.pi/180, 0, 45*sp.pi/180)"
   ]
  },
  {
   "cell_type": "code",
   "execution_count": 255,
   "metadata": {
    "id": "HTZNd1XapBBQ",
    "outputId": "c93f87ce-d26b-4db9-84f4-6c2d4fc8edf2"
   },
   "outputs": [
    {
     "data": {
      "text/latex": [
       "$\\displaystyle \\left[\\begin{matrix}\\frac{\\sqrt{2}}{2} & - \\frac{\\sqrt{2}}{2} & 0 & 0\\\\\\frac{\\sqrt{2}}{2} & \\frac{\\sqrt{2}}{2} & 0 & 0\\\\0 & 0 & 1 & 0\\\\0 & 0 & 0 & 1\\end{matrix}\\right]$"
      ],
      "text/plain": [
       "Matrix([\n",
       "[sqrt(2)/2, -sqrt(2)/2, 0, 0],\n",
       "[sqrt(2)/2,  sqrt(2)/2, 0, 0],\n",
       "[        0,          0, 1, 0],\n",
       "[        0,          0, 0, 1]])"
      ]
     },
     "execution_count": 255,
     "metadata": {},
     "output_type": "execute_result"
    }
   ],
   "source": [
    "#  A partire dalle coordinate della posizione e gli angoli di Eulero otteniamo \n",
    "#  la matrice di trasformazione\n",
    "\n",
    "x = 0.0\n",
    "y = 0.0\n",
    "z = 0.0\n",
    "alpha = 0\n",
    "beta = 0\n",
    "gamma = 45*sp.pi/180\n",
    "\n",
    "t = sp.Matrix([[1, 0, 0, x],\n",
    "               [0, 1, 0, y], \n",
    "               [0, 0, 1, z], \n",
    "               [0, 0, 0, 1]])\n",
    "\n",
    "D = t*matrixFromEuler(alpha, beta, gamma)\n",
    "D\n"
   ]
  },
  {
   "cell_type": "markdown",
   "metadata": {
    "id": "qSwdKzj_pBBR"
   },
   "source": [
    "###  3. Calcoliamo la cinematica inversa\n"
   ]
  },
  {
   "cell_type": "code",
   "execution_count": 256,
   "metadata": {
    "id": "acfqTmpZpBBS",
    "outputId": "0093b054-4218-4625-94f5-f1c2dacd08c6"
   },
   "outputs": [
    {
     "name": "stdout",
     "output_type": "stream",
     "text": [
      "Could not find a solution\n"
     ]
    },
    {
     "data": {
      "text/plain": [
       "[0, 0, 0, 0]"
      ]
     },
     "execution_count": 256,
     "metadata": {},
     "output_type": "execute_result"
    }
   ],
   "source": [
    "# Cerchiamo una soluzione diminuendo la precisione per facilitare il calcolo.\n",
    "# Normalmente sarebbe a 15 cifre significative\n",
    "\n",
    "try:\n",
    "    q = sp.nsolve((T-D), (q1, q2, q3, q4), (1, 1, 1, 1), prec=6)\n",
    "except:\n",
    "    print('Could not find a solution')\n",
    "    q = [0, 0, 0, 0]\n",
    "q\n"
   ]
  },
  {
   "cell_type": "code",
   "execution_count": 257,
   "metadata": {
    "id": "p6YKWE7jpBBS",
    "outputId": "2c244c5f-7e75-4a42-e659-fa04c9bb2732"
   },
   "outputs": [
    {
     "name": "stdout",
     "output_type": "stream",
     "text": [
      "[0.867459774017334, 3.55858173861634e-05, 0.23353984951972961]\n"
     ]
    }
   ],
   "source": [
    "# verifichiamo la posizione dell'attuatore\n",
    "\n",
    "retCode,pos=sim.simxGetObjectPosition(clientID, effector, -1, sim.simx_opmode_blocking)\n",
    "print(pos)\n"
   ]
  },
  {
   "cell_type": "code",
   "execution_count": 258,
   "metadata": {
    "id": "YMkb1_1kpBBS",
    "outputId": "1d16eef3-7578-4649-fef6-6265fe0dad3a"
   },
   "outputs": [
    {
     "data": {
      "text/latex": [
       "$\\displaystyle \\left[\\begin{matrix}\\cos{\\left(q_{1} + q_{2} + q_{4} \\right)} - \\frac{\\sqrt{2}}{2} & - \\sin{\\left(q_{1} + q_{2} + q_{4} \\right)} + \\frac{\\sqrt{2}}{2} & 0 & 0.467 \\cos{\\left(q_{1} \\right)} + 0.4005 \\cos{\\left(q_{1} + q_{2} \\right)}\\\\\\sin{\\left(q_{1} + q_{2} + q_{4} \\right)} - \\frac{\\sqrt{2}}{2} & \\cos{\\left(q_{1} + q_{2} + q_{4} \\right)} - \\frac{\\sqrt{2}}{2} & 0 & 0.467 \\sin{\\left(q_{1} \\right)} + 0.4005 \\sin{\\left(q_{1} + q_{2} \\right)}\\\\0 & 0 & 0 & 0.234 - q_{3}\\\\0 & 0 & 0 & 0\\end{matrix}\\right]$"
      ],
      "text/plain": [
       "Matrix([\n",
       "[cos(q1 + q2 + q4) - sqrt(2)/2, -sin(q1 + q2 + q4) + sqrt(2)/2, 0, 0.467*cos(q1) + 0.4005*cos(q1 + q2)],\n",
       "[sin(q1 + q2 + q4) - sqrt(2)/2,  cos(q1 + q2 + q4) - sqrt(2)/2, 0, 0.467*sin(q1) + 0.4005*sin(q1 + q2)],\n",
       "[                            0,                              0, 0,                          0.234 - q3],\n",
       "[                            0,                              0, 0,                                   0]])"
      ]
     },
     "execution_count": 258,
     "metadata": {},
     "output_type": "execute_result"
    }
   ],
   "source": [
    "# La funzione nsolve di sympy cerca valori che eguagliano a zero l'espressione.\n",
    "# Se vogliamo T=D, cerchiamo T-D = 0\n",
    "\n",
    "T-D\n"
   ]
  },
  {
   "cell_type": "code",
   "execution_count": 259,
   "metadata": {
    "id": "Z-xsR-hVpBBT",
    "outputId": "38f0bff4-23a4-4b32-d85b-80e7c8138096"
   },
   "outputs": [
    {
     "name": "stdout",
     "output_type": "stream",
     "text": [
      "0.01210928843442046\n",
      "0.018029524481373665\n",
      "-6.220080035450632e-05\n"
     ]
    }
   ],
   "source": [
    "# e l'orientamento\n",
    "\n",
    "retCode,eul=sim.simxGetObjectOrientation(clientID, effector, -1, sim.simx_opmode_blocking)\n",
    "print(eul[0]*180/3.1416)\n",
    "print(eul[1]*180/3.1416)\n",
    "print(eul[2]*180/3.1416)\n"
   ]
  },
  {
   "cell_type": "markdown",
   "metadata": {},
   "source": [
    "###  2. Metodo per people tracking and detection\n"
   ]
  },
  {
   "cell_type": "code",
   "execution_count": 260,
   "metadata": {},
   "outputs": [],
   "source": [
    "def path_planning(centers):\n",
    "    print(\"-------Path planning-----------\")\n",
    "    ordered_centers = []\n",
    "    for c in centers:\n",
    "        print(c)"
   ]
  },
  {
   "cell_type": "code",
   "execution_count": 261,
   "metadata": {},
   "outputs": [],
   "source": [
    "def Anomaly_detection():\n",
    "    \"\"\"result = False\n",
    "    #Otteniamo handle del sensore di visione 2\n",
    "    retCodeA,sensorHandleA=sim.simxGetObjectHandle(clientID,'Vision_sensor2',sim.simx_opmode_blocking)\n",
    "\n",
    "    # Otteniamo l'immagine\n",
    "    retCodeA, resolutionA, imgA=sim.simxGetVisionSensorImage(clientID,sensorHandleA,0,sim.simx_opmode_oneshot_wait)\n",
    "    image = np.array(imgA, dtype=np.uint8)\n",
    "    image.resize([resolutionA[1],resolutionA[0],3])\n",
    "    \n",
    "    gray = cv2.cvtColor(image, cv2.COLOR_BGR2GRAY)\n",
    "    gray = cv2.GaussianBlur(gray, (21, 21), 0)\n",
    "    \n",
    "    if firstFrame is None:\n",
    "        firstFrame = gray\n",
    "        #continue\n",
    "        \n",
    "    thresh = cv2.dilate(thresh, None, iterations=2)\n",
    "    cnts = cv2.findContours(thresh.copy(), cv2.RETR_EXTERNAL,\n",
    "        cv2.CHAIN_APPROX_SIMPLE)\n",
    "    cnts = imutils.grab_contours(cnts)\n",
    "    # loop over the contours\n",
    "    for c in cnts:\n",
    "        # if the contour is too small, ignore it\n",
    "        if cv2.contourArea(c) < args[\"min_area\"]:\n",
    "            #continue\n",
    "        # compute the bounding box for the contour, draw it on the frame,\n",
    "        # and update the text\n",
    "        (x, y, w, h) = cv2.boundingRect(c)\n",
    "        cv2.rectangle(frame, (x, y), (x + w, y + h), (0, 255, 0), 2)\n",
    "        text = \"Occupied\"\n",
    "        \n",
    "        \n",
    "    cv2.putText(image, \"Room Status: {}\".format(text), (10, 20),\n",
    "        cv2.FONT_HERSHEY_SIMPLEX, 0.5, (0, 0, 255), 2)\n",
    "    cv2.putText(image, datetime.datetime.now().strftime(\"%A %d %B %Y %I:%M:%S%p\"),\n",
    "        (10, image.shape[0] - 10), cv2.FONT_HERSHEY_SIMPLEX, 0.35, (0, 0, 255), 1)\n",
    "    # show the frame and record if the user presses a key\n",
    "    cv2.imshow(\"Security Feed\", image)\n",
    "    cv2.imshow(\"Thresh\", thresh)\n",
    "    cv2.imshow(\"Frame Delta\", frameDelta)\n",
    "    key = cv2.waitKey(1) & 0xFF\n",
    "    \n",
    "    \"\"\"\n"
   ]
  },
  {
   "cell_type": "code",
   "execution_count": 262,
   "metadata": {
    "id": "onKrkAjapBBU",
    "outputId": "e0079aa1-70f3-4874-f0c7-3a41583cc1f5"
   },
   "outputs": [
    {
     "data": {
      "image/png": "[encoded data removed]",
      "text/plain": [
       "<Figure size 432x288 with 1 Axes>"
      ]
     },
     "metadata": {
      "needs_background": "light"
     },
     "output_type": "display_data"
    },
    {
     "name": "stdout",
     "output_type": "stream",
     "text": [
      "--> Acquisito ed elaborato l'immagine\n",
      "numero di contorni: 11\n",
      "contorni elaborati\n",
      "[[1421, 1506], [1030, 1489], [1762, 1391], [741, 1346], [1740, 787], [770, 603], [1561, 541], [991, 486]]\n",
      "[[241, 23, 23], [23, 23, 241], [23, 23, 241], [241, 23, 23], [23, 23, 241], [23, 23, 241], [241, 23, 23], [241, 23, 23]]\n",
      "RED GREEN BLU\n",
      "Centri\n",
      "[[1421, 1506], [1030, 1489], [1762, 1391], [741, 1346], [1740, 787], [770, 603], [1561, 541], [991, 486]]\n",
      "numero centri8\n",
      "-------Path planning-----------\n",
      "[1421, 1506]\n",
      "[1030, 1489]\n",
      "[1762, 1391]\n",
      "[741, 1346]\n",
      "[1740, 787]\n",
      "[770, 603]\n",
      "[1561, 541]\n",
      "[991, 486]\n",
      "diff calculated from the image\n",
      "-0.421\n",
      "-0.506\n",
      "diff calculated from the image\n",
      "-0.03\n",
      "-0.489\n",
      "diff calculated from the image\n",
      "-0.762\n",
      "-0.391\n",
      "diff calculated from the image\n",
      "0.259\n",
      "-0.34600000000000003\n",
      "diff calculated from the image\n",
      "-0.74\n",
      "0.213\n",
      "diff calculated from the image\n",
      "0.23\n",
      "0.397\n",
      "diff calculated from the image\n",
      "-0.561\n",
      "0.459\n",
      "diff calculated from the image\n",
      "0.009000000000000001\n",
      "0.514\n",
      "Ho posato un cubo rosso nella sua posizione\n",
      "Ho posato un cubo rosso nella sua posizione\n",
      "Ho posato un cubo rosso nella sua posizione\n",
      "Ho posato un cubo rosso nella sua posizione\n",
      "Ho posato un cubo blu nella sua posizione\n",
      "Ho posato un cubo blu nella sua posizione\n",
      "Ho posato un cubo blu nella sua posizione\n",
      "Ho posato un cubo blu nella sua posizione\n"
     ]
    },
    {
     "data": {
      "image/png": "[encoded data removed]",
      "text/plain": [
       "<Figure size 432x288 with 1 Axes>"
      ]
     },
     "metadata": {
      "needs_background": "light"
     },
     "output_type": "display_data"
    },
    {
     "name": "stdout",
     "output_type": "stream",
     "text": [
      "--> Acquisito ed elaborato l'immagine\n",
      "numero di contorni: 4\n",
      "contorni elaborati\n",
      "[]\n",
      "[]\n",
      "RED GREEN BLU\n",
      "Centri\n",
      "[]\n",
      "numero centri0\n",
      "-------Path planning-----------\n"
     ]
    },
    {
     "data": {
      "image/png": "[encoded data removed]",
      "text/plain": [
       "<Figure size 432x288 with 1 Axes>"
      ]
     },
     "metadata": {
      "needs_background": "light"
     },
     "output_type": "display_data"
    },
    {
     "name": "stdout",
     "output_type": "stream",
     "text": [
      "--> Acquisito ed elaborato l'immagine\n",
      "numero di contorni: 4\n",
      "contorni elaborati\n",
      "[]\n",
      "[]\n",
      "RED GREEN BLU\n",
      "Centri\n",
      "[]\n",
      "numero centri0\n",
      "-------Path planning-----------\n"
     ]
    },
    {
     "ename": "IndexError",
     "evalue": "list index out of range",
     "output_type": "error",
     "traceback": [
      "\u001b[1;31m---------------------------------------------------------------------------\u001b[0m",
      "\u001b[1;31mIndexError\u001b[0m                                Traceback (most recent call last)",
      "Input \u001b[1;32mIn [262]\u001b[0m, in \u001b[0;36m<cell line: 2>\u001b[1;34m()\u001b[0m\n\u001b[0;32m      5\u001b[0m retCode, resolution, img\u001b[38;5;241m=\u001b[39msim\u001b[38;5;241m.\u001b[39msimxGetVisionSensorImage(clientID,sensorHandle,\u001b[38;5;241m0\u001b[39m,sim\u001b[38;5;241m.\u001b[39msimx_opmode_oneshot_wait)\n\u001b[0;32m      8\u001b[0m image \u001b[38;5;241m=\u001b[39m np\u001b[38;5;241m.\u001b[39marray(img, dtype\u001b[38;5;241m=\u001b[39mnp\u001b[38;5;241m.\u001b[39muint8)\n\u001b[1;32m----> 9\u001b[0m image\u001b[38;5;241m.\u001b[39mresize([\u001b[43mresolution\u001b[49m\u001b[43m[\u001b[49m\u001b[38;5;241;43m1\u001b[39;49m\u001b[43m]\u001b[49m,resolution[\u001b[38;5;241m0\u001b[39m],\u001b[38;5;241m3\u001b[39m])\n\u001b[0;32m     10\u001b[0m original_image\u001b[38;5;241m=\u001b[39m image\n\u001b[0;32m     11\u001b[0m \u001b[38;5;66;03m#print(resolution)\u001b[39;00m\n\u001b[0;32m     12\u001b[0m \n\u001b[0;32m     13\u001b[0m \u001b[38;5;66;03m#cv2.imshow('image', img)\u001b[39;00m\n\u001b[1;32m   (...)\u001b[0m\n\u001b[0;32m     19\u001b[0m \n\u001b[0;32m     20\u001b[0m \u001b[38;5;66;03m#convert image into greyscale mode\u001b[39;00m\n",
      "\u001b[1;31mIndexError\u001b[0m: list index out of range"
     ]
    }
   ],
   "source": [
    "while(True):\n",
    "    retCode,sensorHandle=sim.simxGetObjectHandle(clientID,'Vision_sensor',sim.simx_opmode_blocking)\n",
    "\n",
    "    # Otteniamo l'immagine\n",
    "    retCode, resolution, img=sim.simxGetVisionSensorImage(clientID,sensorHandle,0,sim.simx_opmode_oneshot_wait)\n",
    "\n",
    "\n",
    "    image = np.array(img, dtype=np.uint8)\n",
    "    image.resize([resolution[1],resolution[0],3])\n",
    "    original_image= image\n",
    "    #print(resolution)\n",
    "\n",
    "    #cv2.imshow('image', img)\n",
    "    #cv2.waitKey(0)\n",
    "    #cv2.destroyAllWindows()\n",
    "\n",
    "    #plt.imshow(image)\n",
    "    #plt.show()\n",
    "\n",
    "    #convert image into greyscale mode\n",
    "    gray_image = cv2.cvtColor(image, cv2.COLOR_BGR2GRAY)\n",
    "\n",
    "    #find threshold of the image\n",
    "    _, thrash = cv2.threshold(gray_image, 100, 190, cv2.THRESH_BINARY)\n",
    "    contours, _ = cv2.findContours(thrash, cv2.RETR_TREE, cv2.CHAIN_APPROX_NONE)\n",
    "    plt.imshow(thrash)\n",
    "    plt.show()\n",
    "    centers=[]\n",
    "    colori=[]\n",
    "    print(\"--> Acquisito ed elaborato l'immagine\")\n",
    "    print(\"numero di contorni: \" + str(len(contours)))\n",
    "    for contour in contours:\n",
    "        #print(\"...Elaboro contorni...\")\n",
    "        shape = cv2.approxPolyDP(contour, 0.01*cv2.arcLength(contour, True), True)\n",
    "        if shape[0][0][0] != 0:\n",
    "            x_cor = shape.ravel()[0]\n",
    "            y_cor = shape.ravel()[1]\n",
    "\n",
    "            if len(shape) ==4:\n",
    "                #shape cordinates\n",
    "                x,y,w,h = cv2.boundingRect(shape)\n",
    "\n",
    "                #width:height\n",
    "                aspectRatio = float(w)/h\n",
    "                cv2.drawContours(image, [shape], 0, (0,255,0), 4)\n",
    "                if aspectRatio >= 0.9 and aspectRatio <=1.1:\n",
    "                    cv2.putText(image, \"Square\", (x_cor, y_cor), cv2.FONT_HERSHEY_COMPLEX, 0.5, (0,0,0))\n",
    "                    M = cv2.moments(contour)\n",
    "                    if M['m00'] != 0:\n",
    "                        cx = int(M['m10']/M['m00'])\n",
    "                        cy = int(M['m01']/M['m00'])\n",
    "                        retCode, resolution, img2=sim.simxGetVisionSensorImage(clientID,sensorHandle,0,sim.simx_opmode_oneshot_wait)\n",
    "                        #image2 = np.array(img2, dtype=np.uint8)\n",
    "                        #image2.resize([resolution[1],resolution[0],3])\n",
    "                        (b, g, r) = original_image[cy,cx]\n",
    "                        colori.append([b, g, r])\n",
    "                        cv2.drawContours(image, [contour], -1, (0, 255, 0), 2)\n",
    "                        cv2.circle(image, (cx, cy), 7, (0, 255, 255), -1)\n",
    "                        cv2.putText(image, \"center\", (cx - 20, cy - 20),cv2.FONT_HERSHEY_SIMPLEX, 0.5, (0, 0, 0), 2)\n",
    "                        centers.append([cx,cy])\n",
    "                else:\n",
    "                    cv2.putText(image, \"Rectangle\", (x_cor, y_cor), cv2.FONT_HERSHEY_COMPLEX, 0.5, (255,0,0))\n",
    "\n",
    "        \"\"\"    M = cv2.moments(contour)\n",
    "          if M['m00'] != 0:\n",
    "                cx = int(M['m10']/M['m00'])\n",
    "                cy = int(M['m01']/M['m00'])\n",
    "                retCode, resolution, img2=sim.simxGetVisionSensorImage(clientID,sensorHandle,0,sim.simx_opmode_oneshot_wait)\n",
    "                image2 = np.array(img2, dtype=np.uint8)\n",
    "                image2.resize([resolution[1],resolution[0],3])\n",
    "                (b, g, r) = image2[cy,cx]\n",
    "                colori.append([b, g, r])\n",
    "                cv2.drawContours(image, [contour], -1, (0, 255, 0), 2)\n",
    "                cv2.circle(image, (cx, cy), 7, (0, 255, 255), -1)\n",
    "                cv2.putText(image, \"center\", (cx - 20, cy - 20),\n",
    "                           cv2.FONT_HERSHEY_SIMPLEX, 0.5, (0, 0, 0), 2)\n",
    "\n",
    "            print(f\"x: {cx} y: {cy}\")\n",
    "    \"\"\"  \n",
    "\n",
    "\n",
    "    \"\"\"\n",
    "    print(\"contorni elaborati\")\n",
    "    plt.imshow(image)\n",
    "    plt.show()\n",
    "    print(centers)\n",
    "    print(colori)\n",
    "    print(\"RED GREEN BLU\")\n",
    "    \"\"\"\n",
    "    \n",
    "    # Notes on operative modes:\n",
    "    # Blocking mode: The command is sent, and the function will wait for the actual reply and return it (if the function doesn't time out). \n",
    "    # The received command reply will be removed from the inbox buffer (other operation modes will leave their command replies in the inbox buffer).\n",
    "\n",
    "    # Otteniamo handle della camera e le coordinate\n",
    "    retCode,camera=sim.simxGetObjectHandle(clientID,'Vision_sensor',sim.simx_opmode_blocking)\n",
    "    res, posizioneCamera = sim.simxGetObjectPosition(clientID, camera, -1, sim.simx_opmode_blocking)\n",
    "    \"\"\"\n",
    "    print(\"POSIZIONE CAMERA\")\n",
    "    print(posizioneCamera)\n",
    "    \"\"\"\n",
    "    res, posizioneCuboRosso = sim.simxGetObjectPosition(clientID, cuboRosso, -1, sim.simx_opmode_blocking)\n",
    "    \"\"\"\n",
    "    print(\"POSIZIONE CUBO ROSSO\")\n",
    "    print(posizioneCuboRosso)\n",
    "    \"\"\"\n",
    "    xdiff = posizioneCamera[0] - posizioneCuboRosso[0]\n",
    "    ydiff = posizioneCamera[1] - posizioneCuboRosso[1]\n",
    "    \"\"\"\n",
    "    print(\"diff from camera to target\")\n",
    "    print(xdiff, ydiff)\n",
    "    \"\"\"\n",
    "    m = 0\n",
    "    targets_rossi = []\n",
    "    targets_blu = []\n",
    "    sleep_time = 0.9\n",
    "    print(\"Centri\")\n",
    "    print(centers)\n",
    "    print(\"numero centri\" + str(len(centers)))\n",
    "    ordered_centers = path_planning(centers)\n",
    "    for c in centers:\n",
    "        if colori[m][0]>200: \n",
    "          \"\"\"\n",
    "          Se il cubo è rosso RGB--> R>200\n",
    "          In pratica prendo la risoluzione dell'immagine e la divido per 2 in modo\n",
    "          che sono sulla coordinata centrale, dopo sottraggo la coordinata X del \n",
    "          centro del primo cubo e moltiplico per 0.001 per passare da pixel a \n",
    "          millimetri perché avendo impostato io l'unità di misura ho fatto in modo\n",
    "          che 1 pixel coprisse 1 millimetro nel mondo reale... Quindi immXdiff é \n",
    "          la differenza tra coordinata X del centro della camera e coordinata X \n",
    "          del centro del cubo... Sommata questa differenza alla posizione della \n",
    "          camera che é nota si trova la posizione target\n",
    "          \"\"\"\n",
    "            immXdiff = ((resolution[0]/2) - c[0]) * 0.001\n",
    "            immYdiff = ((resolution[1]/2) - c[1]) * 0.001\n",
    "            print(\"diff calculated from the image\")\n",
    "            print(immXdiff)\n",
    "            print(immYdiff)\n",
    "            posizioneTarget=[0,0,0]\n",
    "            posizioneTarget[0]=posizioneCamera[0] + immXdiff\n",
    "            posizioneTarget[1]=posizioneCamera[1] + immYdiff\n",
    "            posizioneTarget[2]=0.05\n",
    "            eulC=[0,0,0]\n",
    "            targetP = posizioneTarget + eulC\n",
    "            #print(targetP)\n",
    "            targets_rossi.append(targetP)\n",
    "        else:\n",
    "            immXdiff = ((resolution[0]/2) - c[0]) * 0.001\n",
    "            immYdiff = ((resolution[1]/2) - c[1]) * 0.001\n",
    "            print(\"diff calculated from the image\")\n",
    "            print(immXdiff)\n",
    "            print(immYdiff)\n",
    "            posizioneTarget=[0,0,0]\n",
    "            posizioneTarget[0]=posizioneCamera[0] + immXdiff\n",
    "            posizioneTarget[1]=posizioneCamera[1] + immYdiff\n",
    "            posizioneTarget[2]=0.05\n",
    "            eulC=[0,0,0]\n",
    "            targetP = posizioneTarget + eulC\n",
    "            #print(targetP) \n",
    "            targets_blu.append(targetP)\n",
    "        m=m+1\n",
    "            \n",
    "            \n",
    "    for targetP in targets_rossi: \n",
    "            sq = sp.symbols(['q1','q2','q3','q4'])\n",
    "            T2 = sp.Matrix([[sp.cos(sq[0] + sq[1] + sq[3]), -sp.sin(sq[0] + sq[1] + sq[3]), 0, 0.467*sp.cos(sq[0]) + 0.4005*sp.cos(sq[0] + sq[1])], \n",
    "                           [sp.sin(sq[0] + sq[1] + sq[3]), sp.cos(sq[0] + sq[1] + sq[3]), 0, 0.467*sp.sin(sq[0]) + 0.4005*sp.sin(sq[0]+ sq[1])], \n",
    "                           [0, 0, 1, 0.234 - sq[2]], [0, 0, 0, 1]])\n",
    "\n",
    "            # inviamo alla posa di destinazione\n",
    "            d2 = targetP\n",
    "            D2 = matrixFromPose(d2)\n",
    "            q = sp.nsolve(T2-D2, sq, [0.1, 0.1, 0.1, 0.1], prec=6)\n",
    "            #print('q')\n",
    "            #print(q)\n",
    "            # spostiamo il robot nella posizione\n",
    "            retCode = sim.simxSetJointTargetPosition(clientID, joint1, q[0], sim.simx_opmode_blocking)\n",
    "            retCode = sim.simxSetJointTargetPosition(clientID, joint2, q[1], sim.simx_opmode_blocking)\n",
    "            retCode = sim.simxSetJointTargetPosition(clientID, joint3, 0, sim.simx_opmode_blocking)\n",
    "            retCode = sim.simxSetJointTargetPosition(clientID, joint4, q[3], sim.simx_opmode_blocking)\n",
    "            time.sleep(sleep_time)\n",
    "            # abbassiamo l'attuatore\n",
    "            retCode = sim.simxSetJointTargetPosition(clientID, joint3, q[2], sim.simx_opmode_blocking)\n",
    "            time.sleep(sleep_time)\n",
    "            # attiviamo l'end effector\n",
    "            setEffector(1)\n",
    "            time.sleep(sleep_time)\n",
    "            # alziamo l'attuatore\n",
    "            retCode = sim.simxSetJointTargetPosition(clientID, joint3, 0, sim.simx_opmode_blocking)\n",
    "            time.sleep(sleep_time)\n",
    "            # andiamo alla posizione per i cubi rossi\n",
    "            retCode = sim.simxSetJointTargetPosition(clientID, joint1, 0, sim.simx_opmode_blocking)\n",
    "            retCode = sim.simxSetJointTargetPosition(clientID, joint2, 0.5, sim.simx_opmode_blocking)\n",
    "            retCode = sim.simxSetJointTargetPosition(clientID, joint3, 0, sim.simx_opmode_blocking)\n",
    "            time.sleep(sleep_time)\n",
    "            # Disattiviamo l'attuatore\n",
    "            time.sleep(sleep_time)\n",
    "            setEffector(0)\n",
    "            print(\"Ho posato un cubo rosso nella sua posizione\")\n",
    "      \n",
    "    \n",
    "    for targetP in targets_blu:\n",
    "        sq = sp.symbols(['q1','q2','q3','q4'])\n",
    "        T2 = sp.Matrix([[sp.cos(sq[0] + sq[1] + sq[3]), -sp.sin(sq[0] + sq[1] + sq[3]), 0, 0.467*sp.cos(sq[0]) + 0.4005*sp.cos(sq[0] + sq[1])], \n",
    "                           [sp.sin(sq[0] + sq[1] + sq[3]), sp.cos(sq[0] + sq[1] + sq[3]), 0, 0.467*sp.sin(sq[0]) + 0.4005*sp.sin(sq[0]+ sq[1])], \n",
    "                           [0, 0, 1, 0.234 - sq[2]], [0, 0, 0, 1]])\n",
    "\n",
    "        # inviamo alla posa di destinazione\n",
    "        d2 = targetP\n",
    "        D2 = matrixFromPose(d2)\n",
    "        q = sp.nsolve(T2-D2, sq, [0.1, 0.1, 0.1, 0.1], prec=6)\n",
    "        #print('q')\n",
    "        #print(q)\n",
    "        # spostiamo il robot nella posizione\n",
    "        retCode = sim.simxSetJointTargetPosition(clientID, joint1, q[0], sim.simx_opmode_blocking)\n",
    "        retCode = sim.simxSetJointTargetPosition(clientID, joint2, q[1], sim.simx_opmode_blocking)\n",
    "        retCode = sim.simxSetJointTargetPosition(clientID, joint3, 0, sim.simx_opmode_blocking)\n",
    "        retCode = sim.simxSetJointTargetPosition(clientID, joint4, q[3], sim.simx_opmode_blocking)\n",
    "        time.sleep(sleep_time)\n",
    "        # abbassiamo l'attuatore\n",
    "        retCode = sim.simxSetJointTargetPosition(clientID, joint3, q[2], sim.simx_opmode_blocking)\n",
    "        time.sleep(sleep_time)\n",
    "        # attiviamo l'end effector\n",
    "        setEffector(1)\n",
    "        time.sleep(sleep_time)\n",
    "        # alziamo l'attuatore\n",
    "        retCode = sim.simxSetJointTargetPosition(clientID, joint3, 0, sim.simx_opmode_blocking)\n",
    "        time.sleep(sleep_time)\n",
    "        # andiamo alla posizione per i cubi blu\n",
    "        retCode = sim.simxSetJointTargetPosition(clientID, joint1, 0, sim.simx_opmode_blocking)\n",
    "        retCode = sim.simxSetJointTargetPosition(clientID, joint2, 0, sim.simx_opmode_blocking)\n",
    "        retCode = sim.simxSetJointTargetPosition(clientID, joint3, 0, sim.simx_opmode_blocking)\n",
    "        time.sleep(sleep_time)\n",
    "        # Disattiviamo l'attuatore\n",
    "        time.sleep(sleep_time)\n",
    "        setEffector(0)\n",
    "        print(\"Ho posato un cubo blu nella sua posizione\")\n",
    "    "
   ]
  }
 ],
 "metadata": {
  "colab": {
   "name": "Pick and Place con vision.ipynb",
   "provenance": []
  },
  "kernelspec": {
   "display_name": "Python 3 (ipykernel)",
   "language": "python",
   "name": "python3"
  },
  "language_info": {
   "codemirror_mode": {
    "name": "ipython",
    "version": 3
   },
   "file_extension": ".py",
   "mimetype": "text/x-python",
   "name": "python",
   "nbconvert_exporter": "python",
   "pygments_lexer": "ipython3",
   "version": "3.9.4"
  }
 },
 "nbformat": 4,
 "nbformat_minor": 1
}
