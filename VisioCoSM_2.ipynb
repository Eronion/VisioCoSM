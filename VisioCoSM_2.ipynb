{
 "cells": [
  {
   "cell_type": "markdown",
   "metadata": {
    "id": "v_hvqVfJpBBF"
   },
   "source": [
    "<h2>Pick and Place with Vision</h2>\n",
    "\n",
    "<br>Richiede 'sim.py', 'simConst.py', 'remoteapi.dll' all'interno della stessa cartella del notebook jupyter.</br> \n",
    "<br> La scena implementata per CoppeliaSim è: VisioCoSM_2.ttt</br> \n"
   ]
  },
  {
   "cell_type": "code",
   "execution_count": 120,
   "metadata": {
    "id": "37toPaJipBBH"
   },
   "outputs": [],
   "source": [
    "# Importiamo le librerie necessarie\n",
    "import sim                      # libreria per connettersi con CoppeliaSim\n",
    "import sympy as sp              # libreria per il calcolo simbolico\n",
    "import time\n",
    "import cv2                      # opencv\n",
    "import matplotlib.pyplot as plt # pyplot\n",
    "import numpy as np "
   ]
  },
  {
   "cell_type": "code",
   "execution_count": 121,
   "metadata": {
    "id": "CCVUv1jYpBBJ"
   },
   "outputs": [],
   "source": [
    "def connect(port):\n",
    "#Stabilire una connessione a VREP\n",
    "#la porta deve corrispondere alla porta di connessione in VREP\n",
    "#restituisce il numero del client o -1 se non riesce a stabilire una connessione\n",
    "    sim.simxFinish(-1) # just in case, close all opened connections\n",
    "    clientID=sim.simxStart('127.0.0.1',port,True,True,2000,5) # Connection\n",
    "    if clientID == 0: print(\"connected to\", port)\n",
    "    else: print(\"Could not connect\")\n",
    "    return clientID"
   ]
  },
  {
   "cell_type": "code",
   "execution_count": 122,
   "metadata": {
    "id": "QZfPSMWXpBBK"
   },
   "outputs": [],
   "source": [
    "def setEffector(val):\n",
    "# Azionare l'end-effector\n",
    "# val è un Int con valore 0 o 1 per disabilitare o abilitare l'attuatore finale.\n",
    "    res,retInts,retFloats,retStrings,retBuffer=sim.simxCallScriptFunction(clientID,\n",
    "        \"suctionPad\", sim.sim_scripttype_childscript,\"setEffector\",[val],[],[],\"\", sim.simx_opmode_blocking)\n",
    "    return res"
   ]
  },
  {
   "cell_type": "code",
   "execution_count": 123,
   "metadata": {
    "id": "-A-_EkM_pBBL",
    "outputId": "d2306480-098b-4124-c70e-a6b553158dde"
   },
   "outputs": [
    {
     "name": "stdout",
     "output_type": "stream",
     "text": [
      "connected to 19999\n",
      "33 17 20 23 26 35 36\n"
     ]
    }
   ],
   "source": [
    "# Abbiamo bisogno delle \"handle\" per le articolazioni e il manipulator\n",
    "clientID = connect(19999)\n",
    "\n",
    "retCode,effector=sim.simxGetObjectHandle(clientID,'effector',sim.simx_opmode_blocking)\n",
    "retCode,joint1=sim.simxGetObjectHandle(clientID,'MTB_joint1',sim.simx_opmode_blocking)\n",
    "retCode,joint2=sim.simxGetObjectHandle(clientID,'MTB_joint2',sim.simx_opmode_blocking)\n",
    "retCode,joint3=sim.simxGetObjectHandle(clientID,'MTB_joint3',sim.simx_opmode_blocking)\n",
    "retCode,joint4=sim.simxGetObjectHandle(clientID,'MTB_joint4',sim.simx_opmode_blocking)\n",
    "retCode,cuboRosso=sim.simxGetObjectHandle(clientID,'CuboRosso',sim.simx_opmode_blocking)\n",
    "retCode,cuboBlu=sim.simxGetObjectHandle(clientID,'CuboBlu',sim.simx_opmode_blocking)\n",
    "\n",
    "print(effector, joint1, joint2, joint3, joint4, cuboRosso, cuboBlu)"
   ]
  },
  {
   "cell_type": "code",
   "execution_count": 124,
   "metadata": {
    "id": "_Ec9QDy4pBBL"
   },
   "outputs": [],
   "source": [
    "# Inviamo le posizioni alle articolazioni\n",
    "q = [0, 0, 0.0]\n",
    "\n",
    "retCode = sim.simxSetJointTargetPosition(clientID, joint1, q[0], sim.simx_opmode_oneshot)\n",
    "retCode = sim.simxSetJointTargetPosition(clientID, joint2, q[1], sim.simx_opmode_oneshot)\n",
    "retCode = sim.simxSetJointTargetPosition(clientID, joint3, q[2], sim.simx_opmode_oneshot)"
   ]
  },
  {
   "cell_type": "code",
   "execution_count": 125,
   "metadata": {
    "id": "zT-wy4ydpBBM",
    "outputId": "bad02ff8-8d8c-453d-e119-65d4d62fffd0"
   },
   "outputs": [
    {
     "data": {
      "text/plain": [
       "0"
      ]
     },
     "execution_count": 125,
     "metadata": {},
     "output_type": "execute_result"
    }
   ],
   "source": [
    "# Attiviamo o disattiviamo l'attuatore finale\n",
    "setEffector(0)"
   ]
  },
  {
   "cell_type": "markdown",
   "metadata": {
    "id": "g177IE6XpBBM"
   },
   "source": [
    "###  1. Prepariamo le informazioni necessarie\n",
    "Dalla matrice della cinematica diretta calcoliamo la cinematica inversa."
   ]
  },
  {
   "cell_type": "code",
   "execution_count": 126,
   "metadata": {
    "id": "B_lkq7IVpBBN",
    "outputId": "dbc99c6d-cbac-45ce-ec0f-62bad432742d"
   },
   "outputs": [
    {
     "data": {
      "text/latex": [
       "$\\displaystyle \\left[\\begin{matrix}\\cos{\\left(q_{1} + q_{2} + q_{4} \\right)} & - \\sin{\\left(q_{1} + q_{2} + q_{4} \\right)} & 0 & 0.467 \\cos{\\left(q_{1} \\right)} + 0.4005 \\cos{\\left(q_{1} + q_{2} \\right)}\\\\\\sin{\\left(q_{1} + q_{2} + q_{4} \\right)} & \\cos{\\left(q_{1} + q_{2} + q_{4} \\right)} & 0 & 0.467 \\sin{\\left(q_{1} \\right)} + 0.4005 \\sin{\\left(q_{1} + q_{2} \\right)}\\\\0 & 0 & 1 & 0.234 - q_{3}\\\\0 & 0 & 0 & 1\\end{matrix}\\right]$"
      ],
      "text/plain": [
       "Matrix([\n",
       "[cos(q1 + q2 + q4), -sin(q1 + q2 + q4), 0, 0.467*cos(q1) + 0.4005*cos(q1 + q2)],\n",
       "[sin(q1 + q2 + q4),  cos(q1 + q2 + q4), 0, 0.467*sin(q1) + 0.4005*sin(q1 + q2)],\n",
       "[                0,                  0, 1,                          0.234 - q3],\n",
       "[                0,                  0, 0,                                   1]])"
      ]
     },
     "execution_count": 126,
     "metadata": {},
     "output_type": "execute_result"
    }
   ],
   "source": [
    "# 1. Espressioni della cinematica diretta\n",
    "\n",
    "q1 = sp.symbols('q1') # angolo dell'articolazione rotazionale joint1, in radianti\n",
    "q2 = sp.symbols('q2') # angolo dell'articolazione rotazionale joint2, in radianti\n",
    "q3 = sp.symbols('q3') # posizione dell'articolazione prismatica joint3, in metri\n",
    "q4 = sp.symbols('q4') # angolo dell'articolazione rotazionale joint4, in radianti\n",
    "\n",
    "T = sp.Matrix([[sp.cos(q1 + q2 + q4), -sp.sin(q1 + q2 + q4), 0, 0.467*sp.cos(q1) + 0.4005*sp.cos(q1 + q2)],\n",
    "            [sp.sin(q1 + q2 + q4), sp.cos(q1 + q2 + q4), 0, 0.467*sp.sin(q1) + 0.4005*sp.sin(q1 + q2)], \n",
    "            [0, 0, 1, 0.234 - q3], \n",
    "            [0, 0, 0, 1]])\n",
    "T"
   ]
  },
  {
   "cell_type": "markdown",
   "metadata": {
    "id": "ynoBqR1spBBO"
   },
   "source": [
    "###  2. Otteniamo la posizione del punto di destinazione\n"
   ]
  },
  {
   "cell_type": "code",
   "execution_count": 127,
   "metadata": {
    "id": "eBxnnnRspBBP"
   },
   "outputs": [],
   "source": [
    "def matrixFromPose(pose):\n",
    "    # pose = [x, y, z, alpha, beta, gamma]\n",
    "    # x, y, z en metros\n",
    "    # alpha, beta, gamma en radianes\n",
    "    x, y, z = pose[0], pose[1], pose[2]\n",
    "    alpha, beta, gamma = pose[3], pose[4], pose[5]\n",
    "    Ra = sp.Matrix([[1, 0, 0, 0],\n",
    "                   [0, sp.cos(alpha), -sp.sin(alpha), 0],\n",
    "                   [0, sp.sin(alpha), sp.cos(alpha), 0],\n",
    "                   [0, 0, 0, 1]])\n",
    "    Rb = sp.Matrix([[sp.cos(beta), 0, sp.sin(beta), 0],\n",
    "                   [0, 1, 0, 0],\n",
    "                   [-sp.sin(beta), 0, sp.cos(beta), 0],\n",
    "                   [0, 0, 0, 1]])\n",
    "    Rc = sp.Matrix([[sp.cos(gamma), -sp.sin(gamma), 0, 0],\n",
    "                   [sp.sin(gamma), sp.cos(gamma), 0, 0],\n",
    "                   [0, 0, 1, 0],\n",
    "                   [0, 0, 0, 1]])\n",
    "    T = Ra*Rb*Rc\n",
    "    T[0,3] = x\n",
    "    T[1,3] = y\n",
    "    T[2,3] = z\n",
    "    return T\n",
    "\n",
    "# Definiamo una funzione per costruire la matrice di rotazione\n",
    "# Partendo dagli angoli di Eulero\n",
    "\n",
    "def matrixFromEuler(alpha, beta, gamma):\n",
    "    # theta y alpha en radianes\n",
    "    # d y a en metros\n",
    "    Ra = sp.Matrix([[1, 0, 0, 0],\n",
    "                   [0, sp.cos(alpha), -sp.sin(alpha), 0],\n",
    "                   [0, sp.sin(alpha), sp.cos(alpha), 0],\n",
    "                   [0, 0, 0, 1]])\n",
    "    Rb = sp.Matrix([[sp.cos(beta), 0, sp.sin(beta), 0],\n",
    "                   [0, 1, 0, 0],\n",
    "                   [-sp.sin(beta), 0, sp.cos(beta), 0],\n",
    "                   [0, 0, 0, 1]])\n",
    "    Rc = sp.Matrix([[sp.cos(gamma), -sp.sin(gamma), 0, 0],\n",
    "                   [sp.sin(gamma), sp.cos(gamma), 0, 0],\n",
    "                   [0, 0, 1, 0],\n",
    "                   [0, 0, 0, 1]])\n",
    "    T = Ra*Rb*Rc\n",
    "    return T\n",
    "\n",
    "# Connettiti al server e ottieni handle\n",
    "def getHandlers():\n",
    "    retCode,effector=sim.simxGetObjectHandle(clientID,'effector',sim.simx_opmode_blocking)\n",
    "    retCode,target=sim.simxGetObjectHandle(clientID,'CuboRosso',sim.simx_opmode_blocking)\n",
    "    retCode,joint1=sim.simxGetObjectHandle(clientID,'MTB_joint1',sim.simx_opmode_blocking)\n",
    "    retCode,joint2=sim.simxGetObjectHandle(clientID,'MTB_joint2',sim.simx_opmode_blocking)\n",
    "    retCode,joint3=sim.simxGetObjectHandle(clientID,'MTB_joint3',sim.simx_opmode_blocking)\n",
    "    retCode,joint4=sim.simxGetObjectHandle(clientID,'MTB_joint4',sim.simx_opmode_blocking)\n",
    "    joint = [joint1, joint2, joint3, joint4]\n",
    "    return joint, effector, target"
   ]
  },
  {
   "cell_type": "code",
   "execution_count": 128,
   "metadata": {
    "id": "ofZ3TfDJpBBQ",
    "outputId": "884d736f-b3f6-4b0a-efce-1d2dba4758c6"
   },
   "outputs": [
    {
     "data": {
      "text/latex": [
       "$\\displaystyle \\left[\\begin{matrix}\\frac{\\sqrt{2}}{2} & - \\frac{\\sqrt{2}}{2} & 0 & 0\\\\\\frac{1}{2} & \\frac{1}{2} & - \\frac{\\sqrt{2}}{2} & 0\\\\\\frac{1}{2} & \\frac{1}{2} & \\frac{\\sqrt{2}}{2} & 0\\\\0 & 0 & 0 & 1\\end{matrix}\\right]$"
      ],
      "text/plain": [
       "Matrix([\n",
       "[sqrt(2)/2, -sqrt(2)/2,          0, 0],\n",
       "[      1/2,        1/2, -sqrt(2)/2, 0],\n",
       "[      1/2,        1/2,  sqrt(2)/2, 0],\n",
       "[        0,          0,          0, 1]])"
      ]
     },
     "execution_count": 128,
     "metadata": {},
     "output_type": "execute_result"
    }
   ],
   "source": [
    "matrixFromEuler(45*sp.pi/180, 0, 45*sp.pi/180)"
   ]
  },
  {
   "cell_type": "code",
   "execution_count": 129,
   "metadata": {
    "id": "HTZNd1XapBBQ",
    "outputId": "c93f87ce-d26b-4db9-84f4-6c2d4fc8edf2"
   },
   "outputs": [
    {
     "data": {
      "text/latex": [
       "$\\displaystyle \\left[\\begin{matrix}\\frac{\\sqrt{2}}{2} & - \\frac{\\sqrt{2}}{2} & 0 & 0\\\\\\frac{\\sqrt{2}}{2} & \\frac{\\sqrt{2}}{2} & 0 & 0\\\\0 & 0 & 1 & 0\\\\0 & 0 & 0 & 1\\end{matrix}\\right]$"
      ],
      "text/plain": [
       "Matrix([\n",
       "[sqrt(2)/2, -sqrt(2)/2, 0, 0],\n",
       "[sqrt(2)/2,  sqrt(2)/2, 0, 0],\n",
       "[        0,          0, 1, 0],\n",
       "[        0,          0, 0, 1]])"
      ]
     },
     "execution_count": 129,
     "metadata": {},
     "output_type": "execute_result"
    }
   ],
   "source": [
    "#  A partire dalle coordinate della posizione e gli angoli di Eulero otteniamo \n",
    "#  la matrice di trasformazione\n",
    "\n",
    "x = 0.0\n",
    "y = 0.0\n",
    "z = 0.0\n",
    "alpha = 0\n",
    "beta = 0\n",
    "gamma = 45*sp.pi/180\n",
    "\n",
    "t = sp.Matrix([[1, 0, 0, x],\n",
    "               [0, 1, 0, y], \n",
    "               [0, 0, 1, z], \n",
    "               [0, 0, 0, 1]])\n",
    "\n",
    "D = t*matrixFromEuler(alpha, beta, gamma)\n",
    "D"
   ]
  },
  {
   "cell_type": "markdown",
   "metadata": {
    "id": "qSwdKzj_pBBR"
   },
   "source": [
    "###  3. Calcoliamo la cinematica inversa\n"
   ]
  },
  {
   "cell_type": "code",
   "execution_count": 130,
   "metadata": {
    "id": "acfqTmpZpBBS",
    "outputId": "0093b054-4218-4625-94f5-f1c2dacd08c6"
   },
   "outputs": [
    {
     "name": "stdout",
     "output_type": "stream",
     "text": [
      "Could not find a solution\n"
     ]
    },
    {
     "data": {
      "text/plain": [
       "[0, 0, 0, 0]"
      ]
     },
     "execution_count": 130,
     "metadata": {},
     "output_type": "execute_result"
    }
   ],
   "source": [
    "# Cerchiamo una soluzione diminuendo la precisione per facilitare il calcolo.\n",
    "# Normalmente sarebbe a 15 cifre significative\n",
    "\n",
    "try:\n",
    "    q = sp.nsolve((T-D), (q1, q2, q3, q4), (1, 1, 1, 1), prec=6)\n",
    "except:\n",
    "    print('Could not find a solution')\n",
    "    q = [0, 0, 0, 0]\n",
    "q"
   ]
  },
  {
   "cell_type": "code",
   "execution_count": 131,
   "metadata": {
    "id": "p6YKWE7jpBBS",
    "outputId": "2c244c5f-7e75-4a42-e659-fa04c9bb2732"
   },
   "outputs": [
    {
     "name": "stdout",
     "output_type": "stream",
     "text": [
      "[0.8633243441581726, 0.06462609767913818, 0.23351992666721344]\n"
     ]
    }
   ],
   "source": [
    "# verifichiamo la posizione dell'attuatore\n",
    "\n",
    "retCode,pos=sim.simxGetObjectPosition(clientID, effector, -1, sim.simx_opmode_blocking)\n",
    "print(pos)"
   ]
  },
  {
   "cell_type": "code",
   "execution_count": 132,
   "metadata": {
    "id": "YMkb1_1kpBBS",
    "outputId": "1d16eef3-7578-4649-fef6-6265fe0dad3a"
   },
   "outputs": [
    {
     "data": {
      "text/latex": [
       "$\\displaystyle \\left[\\begin{matrix}\\cos{\\left(q_{1} + q_{2} + q_{4} \\right)} - \\frac{\\sqrt{2}}{2} & - \\sin{\\left(q_{1} + q_{2} + q_{4} \\right)} + \\frac{\\sqrt{2}}{2} & 0 & 0.467 \\cos{\\left(q_{1} \\right)} + 0.4005 \\cos{\\left(q_{1} + q_{2} \\right)}\\\\\\sin{\\left(q_{1} + q_{2} + q_{4} \\right)} - \\frac{\\sqrt{2}}{2} & \\cos{\\left(q_{1} + q_{2} + q_{4} \\right)} - \\frac{\\sqrt{2}}{2} & 0 & 0.467 \\sin{\\left(q_{1} \\right)} + 0.4005 \\sin{\\left(q_{1} + q_{2} \\right)}\\\\0 & 0 & 0 & 0.234 - q_{3}\\\\0 & 0 & 0 & 0\\end{matrix}\\right]$"
      ],
      "text/plain": [
       "Matrix([\n",
       "[cos(q1 + q2 + q4) - sqrt(2)/2, -sin(q1 + q2 + q4) + sqrt(2)/2, 0, 0.467*cos(q1) + 0.4005*cos(q1 + q2)],\n",
       "[sin(q1 + q2 + q4) - sqrt(2)/2,  cos(q1 + q2 + q4) - sqrt(2)/2, 0, 0.467*sin(q1) + 0.4005*sin(q1 + q2)],\n",
       "[                            0,                              0, 0,                          0.234 - q3],\n",
       "[                            0,                              0, 0,                                   0]])"
      ]
     },
     "execution_count": 132,
     "metadata": {},
     "output_type": "execute_result"
    }
   ],
   "source": [
    "# La funzione nsolve di sympy cerca valori che eguagliano a zero l'espressione.\n",
    "# Se vogliamo T=D, cerchiamo T-D = 0\n",
    "\n",
    "T-D"
   ]
  },
  {
   "cell_type": "code",
   "execution_count": 133,
   "metadata": {
    "id": "Z-xsR-hVpBBT",
    "outputId": "38f0bff4-23a4-4b32-d85b-80e7c8138096"
   },
   "outputs": [
    {
     "name": "stdout",
     "output_type": "stream",
     "text": [
      "-0.3101495204876178\n",
      "-0.017976635662202756\n",
      "-27.768576277222135\n"
     ]
    }
   ],
   "source": [
    "# e l'orientamento\n",
    "\n",
    "retCode,eul=sim.simxGetObjectOrientation(clientID, effector, -1, sim.simx_opmode_blocking)\n",
    "print(eul[0]*180/3.1416)\n",
    "print(eul[1]*180/3.1416)\n",
    "print(eul[2]*180/3.1416)"
   ]
  },
  {
   "cell_type": "code",
   "execution_count": 134,
   "metadata": {},
   "outputs": [],
   "source": [
    "retCode,sensorHandle=sim.simxGetObjectHandle(clientID,'Vision_sensor',sim.simx_opmode_blocking)\n",
    "retCode, resolution, img=sim.simxGetVisionSensorImage(clientID,sensorHandle,0,sim.simx_opmode_oneshot_wait)\n",
    "res, posizioneEffector = sim.simxGetObjectPosition(clientID, effector, -1, sim.simx_opmode_blocking)\n",
    "retCode,sensorHandle2=sim.simxGetObjectHandle(clientID,'Vision_sensor2',sim.simx_opmode_blocking)\n",
    "res, posizioneCamera = sim.simxGetObjectPosition(clientID, sensorHandle, -1, sim.simx_opmode_blocking)\n",
    "res, posizioneCamera2 = sim.simxGetObjectPosition(clientID, sensorHandle2, -1, sim.simx_opmode_blocking)"
   ]
  },
  {
   "cell_type": "markdown",
   "metadata": {},
   "source": [
    "###  2. Metodi per people tracking and detection, path planning e path avoidance"
   ]
  },
  {
   "cell_type": "code",
   "execution_count": 135,
   "metadata": {},
   "outputs": [],
   "source": [
    "def personTracking():\n",
    "    retCode, resolution2, img=sim.simxGetVisionSensorImage(clientID,sensorHandle2,0,sim.simx_opmode_oneshot_wait)\n",
    "    image = np.array(img, dtype=np.uint8)\n",
    "    image.resize([resolution2[1],resolution2[0],3])\n",
    "    frame1 = image\n",
    "    #time.sleep(0.05)\n",
    "    retCode, resolution2, img=sim.simxGetVisionSensorImage(clientID,sensorHandle2,0,sim.simx_opmode_oneshot_wait)\n",
    "    image = np.array(img, dtype=np.uint8)\n",
    "    image.resize([resolution2[1],resolution2[0],3])\n",
    "    frame2 = image\n",
    "    \n",
    "    diff = cv2.absdiff(frame1, frame2)\n",
    "    gray = cv2.cvtColor(diff, cv2.COLOR_BGR2GRAY)\n",
    "    blur = cv2.GaussianBlur(gray, (5,5), 0)\n",
    "    _, thresh = cv2.threshold(blur, 20, 255, cv2.THRESH_BINARY)\n",
    "    dilated = cv2.dilate(thresh, None, iterations=3)\n",
    "    contours, _ = cv2.findContours(dilated, cv2.RETR_TREE, cv2.CHAIN_APPROX_SIMPLE)\n",
    "    position = []\n",
    "    for contour in contours:\n",
    "        (x, y, w, h) = cv2.boundingRect(contour)\n",
    "        if cv2.contourArea(contour) < 500:\n",
    "            continue\n",
    "        #cv2.rectangle(frame1, (x, y), (x+w, y+h), (0, 255, 0), 2)\n",
    "        #cv2.putText(frame1, \"Status: {}\".format('Person detected'), (100, 100), cv2.FONT_HERSHEY_SIMPLEX,\n",
    "        #            2, (0, 0, 255), 3)\n",
    "        #print(\"x:\" + str(x))\n",
    "        #print(\"y:\" + str(y))\n",
    "        immXdiff = ((resolution2[0]/2) - x) * 0.01\n",
    "        immYdiff = ((resolution2[1]/2) - y) * 0.01\n",
    "        posizioneTarget=[0,0]\n",
    "        posizioneTarget[0]=posizioneCamera2[0] + immXdiff\n",
    "        posizioneTarget[1]=posizioneCamera2[1] + immYdiff\n",
    "        position.append(posizioneTarget)\n",
    "    #print(\"posizioni\")\n",
    "    #print(position)\n",
    "    plt.imshow(frame1)\n",
    "    plt.show()\n",
    "    if len(position) != 0:\n",
    "        return position[0]       \n",
    "    return position\n",
    "#personTracking()"
   ]
  },
  {
   "cell_type": "code",
   "execution_count": 136,
   "metadata": {},
   "outputs": [],
   "source": [
    "def path_planning(centers):\n",
    "    #print(\"-------Path planning-----------\")\n",
    "    #print(\"posizione effector\" + str(posizioneEffector))\n",
    "    #print(\"Centri\")\n",
    "    #print(centers)\n",
    "    tups = []\n",
    "    for c in centers:\n",
    "        dist = np.linalg.norm(np.array(posizioneEffector[0:2]) - np.array(c[0:2]))\n",
    "        tups.append((c,dist))\n",
    "    #print(\"tuple\")\n",
    "    #print(tups)    \n",
    "    tups.sort(key = lambda x: x[1])\n",
    "    #print(\"tuple ordinate\")\n",
    "    #print(tups)\n",
    "    result = [tup[0] for tup in tups]\n",
    "    #print(\"result\")\n",
    "    #print(result)\n",
    "    return result"
   ]
  },
  {
   "cell_type": "code",
   "execution_count": 137,
   "metadata": {},
   "outputs": [],
   "source": [
    "def path_avoidance(centers, personPosition):\n",
    "    print(\"-------Path avoidance-----------\")\n",
    "    #print(\"posizione effector\" + str(personPosition))\n",
    "    #print(\"Centri\")\n",
    "    #print(centers)\n",
    "    tups = []\n",
    "    for c in centers:\n",
    "        dist = np.linalg.norm(np.array(personPosition[0:2]) - np.array(c[0:2]))\n",
    "        tups.append((c,dist))\n",
    "    #print(\"tuple\")\n",
    "    #print(tups)    \n",
    "    tups.sort(key = lambda x: x[1], reverse = True)\n",
    "    #print(\"tuple ordinate\")\n",
    "    #print(tups)\n",
    "    result = [tup[0] for tup in tups]\n",
    "    #print(\"result\")\n",
    "    #print(result)\n",
    "    return result"
   ]
  },
  {
   "cell_type": "code",
   "execution_count": 138,
   "metadata": {
    "id": "onKrkAjapBBU",
    "outputId": "e0079aa1-70f3-4874-f0c7-3a41583cc1f5"
   },
   "outputs": [
    {
     "name": "stdout",
     "output_type": "stream",
     "text": [
      "--> Acquisito ed elaborato l'immagine\n",
      "numero di contorni: 32\n",
      "numero centri: 27\n",
      "-------- Centri elaborari --------\n"
     ]
    }
   ],
   "source": [
    "while(True):\n",
    "    # Otteniamo l'immagine\n",
    "    retCode, resolution, img=sim.simxGetVisionSensorImage(clientID,sensorHandle,0,sim.simx_opmode_oneshot_wait)\n",
    "    image = np.array(img, dtype=np.uint8)\n",
    "    image.resize([resolution[1],resolution[0],3])\n",
    "    original_image= image\n",
    "    \n",
    "    #print(resolution)\n",
    "    #cv2.imshow('image', img)\n",
    "    #cv2.waitKey(0)\n",
    "    #cv2.destroyAllWindows()\n",
    "    #plt.imshow(image)\n",
    "    #plt.show()\n",
    "\n",
    "    #convert image into greyscale mode\n",
    "    gray_image = cv2.cvtColor(image, cv2.COLOR_BGR2GRAY)\n",
    "\n",
    "    #find threshold of the image\n",
    "    _, thrash = cv2.threshold(gray_image, 100, 190, cv2.THRESH_BINARY)\n",
    "    contours, _ = cv2.findContours(thrash, cv2.RETR_TREE, cv2.CHAIN_APPROX_NONE)\n",
    "    \n",
    "    #plt.imshow(thrash)\n",
    "    #plt.show()\n",
    "    \n",
    "    centers=[]\n",
    "    colori=[]\n",
    "    print(\"--> Acquisito ed elaborato l'immagine\")\n",
    "    print(\"numero di contorni: \" + str(len(contours)))\n",
    "    \n",
    "    for contour in contours:\n",
    "        #print(\"...Elaboro contorni...\")\n",
    "        shape = cv2.approxPolyDP(contour, 0.01*cv2.arcLength(contour, True), True)\n",
    "        if shape[0][0][0] != 0:\n",
    "            x_cor = shape.ravel()[0]\n",
    "            y_cor = shape.ravel()[1]\n",
    "            \n",
    "            if len(shape) ==4:\n",
    "                #shape cordinates\n",
    "                x,y,w,h = cv2.boundingRect(shape)\n",
    "\n",
    "                #width:height\n",
    "                aspectRatio = float(w)/h\n",
    "                #cv2.drawContours(image, [shape], 0, (0,255,0), 4)\n",
    "                if aspectRatio >= 0.9 and aspectRatio <=1.1:\n",
    "                    cv2.putText(image, \"Square\", (x_cor, y_cor), cv2.FONT_HERSHEY_COMPLEX, 0.5, (0,0,0))\n",
    "                    M = cv2.moments(contour)\n",
    "                    if M['m00'] != 0:\n",
    "                        cx = int(M['m10']/M['m00'])\n",
    "                        cy = int(M['m01']/M['m00'])\n",
    "                        (b, g, r) = original_image[cy,cx]\n",
    "                        colori.append([b, g, r])\n",
    "                        #cv2.drawContours(image, [contour], -1, (0, 255, 0), 2)\n",
    "                        #cv2.circle(image, (cx, cy), 7, (0, 255, 255), -1)\n",
    "                        #cv2.putText(image, \"center\", (cx - 20, cy - 20),cv2.FONT_HERSHEY_SIMPLEX, 0.5, (0, 0, 0), 2)\n",
    "                        centers.append([cx,cy])\n",
    "                #else:\n",
    "                    #cv2.putText(image, \"Not a square\", (x_cor, y_cor), cv2.FONT_HERSHEY_COMPLEX, 0.5, (255,0,0))\n",
    "\n",
    "        \"\"\"    M = cv2.moments(contour)\n",
    "          if M['m00'] != 0:\n",
    "                cx = int(M['m10']/M['m00'])\n",
    "                cy = int(M['m01']/M['m00'])\n",
    "                retCode, resolution, img2=sim.simxGetVisionSensorImage(clientID,sensorHandle,0,sim.simx_opmode_oneshot_wait)\n",
    "                image2 = np.array(img2, dtype=np.uint8)\n",
    "                image2.resize([resolution[1],resolution[0],3])\n",
    "                (b, g, r) = image2[cy,cx]\n",
    "                colori.append([b, g, r])\n",
    "                cv2.drawContours(image, [contour], -1, (0, 255, 0), 2)\n",
    "                cv2.circle(image, (cx, cy), 7, (0, 255, 255), -1)\n",
    "                cv2.putText(image, \"center\", (cx - 20, cy - 20),\n",
    "                           cv2.FONT_HERSHEY_SIMPLEX, 0.5, (0, 0, 0), 2)\n",
    "\n",
    "            print(f\"x: {cx} y: {cy}\")\n",
    "    \"\"\"  \n",
    "\n",
    "\n",
    "    \"\"\"\n",
    "    print(\"contorni elaborati\")\n",
    "    plt.imshow(image)\n",
    "    plt.show()\n",
    "    print(centers)\n",
    "    print(colori)\n",
    "    print(\"RED GREEN BLU\")\n",
    "    \"\"\"\n",
    "    \n",
    "    # Notes on operative modes:\n",
    "    # Blocking mode: The command is sent, and the function will wait for the actual reply and return it (if the function doesn't time out). \n",
    "    # The received command reply will be removed from the inbox buffer (other operation modes will leave their command replies in the inbox buffer).\n",
    "    \n",
    "    \"\"\"\n",
    "    ### COSE PER VEDERE SE IL PASSAGGIO TRA COORDINATE CAMERA E MONDO FUNZIONA\n",
    "    # Otteniamo handle della camera e le coordinate\n",
    "    retCode,camera=sim.simxGetObjectHandle(clientID,'Vision_sensor',sim.simx_opmode_blocking)\n",
    "    res, posizioneCamera = sim.simxGetObjectPosition(clientID, camera, -1, sim.simx_opmode_blocking)\n",
    "    print(\"POSIZIONE CAMERA\")\n",
    "    print(posizioneCamera)\n",
    "    res, posizioneCuboRosso = sim.simxGetObjectPosition(clientID, cuboRosso, -1, sim.simx_opmode_blocking)\n",
    "    print(\"POSIZIONE CUBO ROSSO\")\n",
    "    print(posizioneCuboRosso)\n",
    "    xdiff = posizioneCamera[0] - posizioneCuboRosso[0]\n",
    "    ydiff = posizioneCamera[1] - posizioneCuboRosso[1]\n",
    "    print(\"diff from camera to target\")\n",
    "    print(xdiff, ydiff)\n",
    "    \"\"\"\n",
    "    m = 0\n",
    "    targets_rossi = []\n",
    "    targets_blu = []\n",
    "    sleep_time = 0.9\n",
    "    #print(\"Centri\")\n",
    "    #print(centers)\n",
    "    print(\"numero centri: \" + str(len(centers)))\n",
    "    for c in centers:\n",
    "        if colori[m][0]>200:\n",
    "            \"\"\"\n",
    "            Se il cubo è rosso RGB--> R>200\n",
    "            In pratica prendo la risoluzione dell'immagine e la divido per 2 in modo\n",
    "            che sono sulla coordinata centrale, dopo sottraggo la coordinata X del \n",
    "            centro del primo cubo e moltiplico per 0.001 per passare da pixel a \n",
    "            millimetri perché avendo impostato io l'unità di misura ho fatto in modo\n",
    "            che 1 pixel coprisse 1 millimetro nel mondo reale... Quindi immXdiff é \n",
    "            la differenza tra coordinata X del centro della camera e coordinata X \n",
    "            del centro del cubo... Sommata questa differenza alla posizione della \n",
    "            camera che é nota si trova la posizione target\n",
    "            \"\"\"\n",
    "            immXdiff = ((resolution[0]/2) - c[0]) * 0.001\n",
    "            immYdiff = ((resolution[1]/2) - c[1]) * 0.001\n",
    "            #print(\"diff calculated from the image\")\n",
    "            #print(immXdiff)\n",
    "            #print(immYdiff)\n",
    "            posizioneTarget=[0,0,0]\n",
    "            posizioneTarget[0]=posizioneCamera[0] + immXdiff\n",
    "            posizioneTarget[1]=posizioneCamera[1] + immYdiff\n",
    "            posizioneTarget[2]=0.05\n",
    "            eulC=[0,0,0]\n",
    "            targetP = posizioneTarget + eulC\n",
    "            #print(targetP)\n",
    "            targets_rossi.append(targetP)\n",
    "        else:\n",
    "            immXdiff = ((resolution[0]/2) - c[0]) * 0.001\n",
    "            immYdiff = ((resolution[1]/2) - c[1]) * 0.001\n",
    "            #print(\"diff calculated from the image\")\n",
    "            #print(immXdiff)\n",
    "            #print(immYdiff)\n",
    "            posizioneTarget=[0,0,0]\n",
    "            posizioneTarget[0]=posizioneCamera[0] + immXdiff\n",
    "            posizioneTarget[1]=posizioneCamera[1] + immYdiff\n",
    "            posizioneTarget[2]=0.05\n",
    "            eulC=[0,0,0]\n",
    "            targetP = posizioneTarget + eulC\n",
    "            #print(targetP) \n",
    "            targets_blu.append(targetP)\n",
    "        m=m+1\n",
    "    break\n",
    "print(\"-------- Centri elaborari --------\")   "
   ]
  },
  {
   "cell_type": "code",
   "execution_count": 139,
   "metadata": {},
   "outputs": [],
   "source": [
    "targets_rossi = path_planning(targets_rossi)\n",
    "targets_blu = path_planning(targets_blu)"
   ]
  },
  {
   "cell_type": "code",
   "execution_count": 140,
   "metadata": {},
   "outputs": [
    {
     "data": {
      "image/png": "[encoded data removed]",
      "text/plain": [
       "<Figure size 432x288 with 1 Axes>"
      ]
     },
     "metadata": {
      "needs_background": "light"
     },
     "output_type": "display_data"
    },
    {
     "name": "stdout",
     "output_type": "stream",
     "text": [
      "Ne rimangono: 15\n"
     ]
    },
    {
     "data": {
      "image/png": "[encoded data removed]",
      "text/plain": [
       "<Figure size 432x288 with 1 Axes>"
      ]
     },
     "metadata": {
      "needs_background": "light"
     },
     "output_type": "display_data"
    },
    {
     "name": "stdout",
     "output_type": "stream",
     "text": [
      "Ne rimangono: 14\n"
     ]
    },
    {
     "data": {
      "image/png": "[encoded data removed]",
      "text/plain": [
       "<Figure size 432x288 with 1 Axes>"
      ]
     },
     "metadata": {
      "needs_background": "light"
     },
     "output_type": "display_data"
    },
    {
     "name": "stdout",
     "output_type": "stream",
     "text": [
      "Ne rimangono: 13\n"
     ]
    },
    {
     "data": {
      "image/png": "[encoded data removed]",
      "text/plain": [
       "<Figure size 432x288 with 1 Axes>"
      ]
     },
     "metadata": {
      "needs_background": "light"
     },
     "output_type": "display_data"
    },
    {
     "name": "stdout",
     "output_type": "stream",
     "text": [
      "Ne rimangono: 12\n"
     ]
    },
    {
     "data": {
      "image/png": "[encoded data removed]",
      "text/plain": [
       "<Figure size 432x288 with 1 Axes>"
      ]
     },
     "metadata": {
      "needs_background": "light"
     },
     "output_type": "display_data"
    },
    {
     "name": "stdout",
     "output_type": "stream",
     "text": [
      "Ne rimangono: 11\n"
     ]
    },
    {
     "data": {
      "image/png": "[encoded data removed]",
      "text/plain": [
       "<Figure size 432x288 with 1 Axes>"
      ]
     },
     "metadata": {
      "needs_background": "light"
     },
     "output_type": "display_data"
    },
    {
     "name": "stdout",
     "output_type": "stream",
     "text": [
      "Ne rimangono: 10\n"
     ]
    },
    {
     "data": {
      "image/png": "[encoded data removed]",
      "text/plain": [
       "<Figure size 432x288 with 1 Axes>"
      ]
     },
     "metadata": {
      "needs_background": "light"
     },
     "output_type": "display_data"
    },
    {
     "name": "stdout",
     "output_type": "stream",
     "text": [
      "Ne rimangono: 9\n"
     ]
    },
    {
     "data": {
      "image/png": "[encoded data removed]",
      "text/plain": [
       "<Figure size 432x288 with 1 Axes>"
      ]
     },
     "metadata": {
      "needs_background": "light"
     },
     "output_type": "display_data"
    },
    {
     "name": "stdout",
     "output_type": "stream",
     "text": [
      "Ne rimangono: 8\n"
     ]
    },
    {
     "data": {
      "image/png": "[encoded data removed]",
      "text/plain": [
       "<Figure size 432x288 with 1 Axes>"
      ]
     },
     "metadata": {
      "needs_background": "light"
     },
     "output_type": "display_data"
    },
    {
     "name": "stdout",
     "output_type": "stream",
     "text": [
      "Ne rimangono: 7\n"
     ]
    },
    {
     "data": {
      "image/png": "[encoded data removed]",
      "text/plain": [
       "<Figure size 432x288 with 1 Axes>"
      ]
     },
     "metadata": {
      "needs_background": "light"
     },
     "output_type": "display_data"
    },
    {
     "name": "stdout",
     "output_type": "stream",
     "text": [
      "Ne rimangono: 6\n"
     ]
    },
    {
     "data": {
      "image/png": "[encoded data removed]",
      "text/plain": [
       "<Figure size 432x288 with 1 Axes>"
      ]
     },
     "metadata": {
      "needs_background": "light"
     },
     "output_type": "display_data"
    },
    {
     "name": "stdout",
     "output_type": "stream",
     "text": [
      "Ne rimangono: 5\n"
     ]
    },
    {
     "data": {
      "image/png": "[encoded data removed]",
      "text/plain": [
       "<Figure size 432x288 with 1 Axes>"
      ]
     },
     "metadata": {
      "needs_background": "light"
     },
     "output_type": "display_data"
    },
    {
     "name": "stdout",
     "output_type": "stream",
     "text": [
      "Ne rimangono: 4\n"
     ]
    },
    {
     "data": {
      "image/png": "[encoded data removed]",
      "text/plain": [
       "<Figure size 432x288 with 1 Axes>"
      ]
     },
     "metadata": {
      "needs_background": "light"
     },
     "output_type": "display_data"
    },
    {
     "name": "stdout",
     "output_type": "stream",
     "text": [
      "Ne rimangono: 3\n"
     ]
    },
    {
     "data": {
      "image/png": "[encoded data removed]",
      "text/plain": [
       "<Figure size 432x288 with 1 Axes>"
      ]
     },
     "metadata": {
      "needs_background": "light"
     },
     "output_type": "display_data"
    },
    {
     "name": "stdout",
     "output_type": "stream",
     "text": [
      "Ne rimangono: 2\n"
     ]
    },
    {
     "data": {
      "image/png": "[encoded data removed]",
      "text/plain": [
       "<Figure size 432x288 with 1 Axes>"
      ]
     },
     "metadata": {
      "needs_background": "light"
     },
     "output_type": "display_data"
    },
    {
     "name": "stdout",
     "output_type": "stream",
     "text": [
      "Ne rimangono: 1\n"
     ]
    },
    {
     "data": {
      "image/png": "[encoded data removed]",
      "text/plain": [
       "<Figure size 432x288 with 1 Axes>"
      ]
     },
     "metadata": {
      "needs_background": "light"
     },
     "output_type": "display_data"
    },
    {
     "name": "stdout",
     "output_type": "stream",
     "text": [
      "Ne rimangono: 0\n"
     ]
    },
    {
     "data": {
      "image/png": "[encoded data removed]",
      "text/plain": [
       "<Figure size 432x288 with 1 Axes>"
      ]
     },
     "metadata": {
      "needs_background": "light"
     },
     "output_type": "display_data"
    },
    {
     "name": "stdout",
     "output_type": "stream",
     "text": [
      "Ne rimangono: 10\n"
     ]
    },
    {
     "data": {
      "image/png": "[encoded data removed]",
      "text/plain": [
       "<Figure size 432x288 with 1 Axes>"
      ]
     },
     "metadata": {
      "needs_background": "light"
     },
     "output_type": "display_data"
    },
    {
     "name": "stdout",
     "output_type": "stream",
     "text": [
      "Ne rimangono: 9\n"
     ]
    },
    {
     "data": {
      "image/png": "[encoded data removed]",
      "text/plain": [
       "<Figure size 432x288 with 1 Axes>"
      ]
     },
     "metadata": {
      "needs_background": "light"
     },
     "output_type": "display_data"
    },
    {
     "name": "stdout",
     "output_type": "stream",
     "text": [
      "Ne rimangono: 8\n"
     ]
    },
    {
     "data": {
      "image/png": "[encoded data removed]",
      "text/plain": [
       "<Figure size 432x288 with 1 Axes>"
      ]
     },
     "metadata": {
      "needs_background": "light"
     },
     "output_type": "display_data"
    },
    {
     "name": "stdout",
     "output_type": "stream",
     "text": [
      "Ne rimangono: 7\n"
     ]
    },
    {
     "data": {
      "image/png": "[encoded data removed]",
      "text/plain": [
       "<Figure size 432x288 with 1 Axes>"
      ]
     },
     "metadata": {
      "needs_background": "light"
     },
     "output_type": "display_data"
    },
    {
     "name": "stdout",
     "output_type": "stream",
     "text": [
      "Ne rimangono: 6\n"
     ]
    },
    {
     "data": {
      "image/png": "[encoded data removed]",
      "text/plain": [
       "<Figure size 432x288 with 1 Axes>"
      ]
     },
     "metadata": {
      "needs_background": "light"
     },
     "output_type": "display_data"
    },
    {
     "name": "stdout",
     "output_type": "stream",
     "text": [
      "Ne rimangono: 5\n"
     ]
    },
    {
     "data": {
      "image/png": "[encoded data removed]",
      "text/plain": [
       "<Figure size 432x288 with 1 Axes>"
      ]
     },
     "metadata": {
      "needs_background": "light"
     },
     "output_type": "display_data"
    },
    {
     "name": "stdout",
     "output_type": "stream",
     "text": [
      "Ne rimangono: 4\n"
     ]
    },
    {
     "data": {
      "image/png": "[encoded data removed]",
      "text/plain": [
       "<Figure size 432x288 with 1 Axes>"
      ]
     },
     "metadata": {
      "needs_background": "light"
     },
     "output_type": "display_data"
    },
    {
     "name": "stdout",
     "output_type": "stream",
     "text": [
      "Ne rimangono: 3\n"
     ]
    },
    {
     "data": {
      "image/png": "[encoded data removed]",
      "text/plain": [
       "<Figure size 432x288 with 1 Axes>"
      ]
     },
     "metadata": {
      "needs_background": "light"
     },
     "output_type": "display_data"
    },
    {
     "name": "stdout",
     "output_type": "stream",
     "text": [
      "Ne rimangono: 2\n"
     ]
    },
    {
     "data": {
      "image/png": "[encoded data removed]",
      "text/plain": [
       "<Figure size 432x288 with 1 Axes>"
      ]
     },
     "metadata": {
      "needs_background": "light"
     },
     "output_type": "display_data"
    },
    {
     "name": "stdout",
     "output_type": "stream",
     "text": [
      "Ne rimangono: 1\n"
     ]
    },
    {
     "data": {
      "image/png": "[encoded data removed]",
      "text/plain": [
       "<Figure size 432x288 with 1 Axes>"
      ]
     },
     "metadata": {
      "needs_background": "light"
     },
     "output_type": "display_data"
    },
    {
     "name": "stdout",
     "output_type": "stream",
     "text": [
      "Ne rimangono: 0\n"
     ]
    }
   ],
   "source": [
    "while len(targets_rossi) != 0:\n",
    "    \n",
    "    personPosition = personTracking()\n",
    "    if len(personPosition) != 0:\n",
    "        targets_rossi = path_avoidance(targets_rossi, personPosition)\n",
    "        print(\"PersonPosition: \" + str(personPosition))\n",
    "        print(\"DistanzaPersona: \" + str(np.linalg.norm(np.array(personPosition[0:2]) - np.array(posizioneEffector[0:2]))))\n",
    "    \n",
    "    sq = sp.symbols(['q1','q2','q3','q4'])\n",
    "    T2 = sp.Matrix([[sp.cos(sq[0] + sq[1] + sq[3]), -sp.sin(sq[0] + sq[1] + sq[3]), 0, 0.467*sp.cos(sq[0]) + 0.4005*sp.cos(sq[0] + sq[1])], \n",
    "    [sp.sin(sq[0] + sq[1] + sq[3]), sp.cos(sq[0] + sq[1] + sq[3]), 0, 0.467*sp.sin(sq[0]) + 0.4005*sp.sin(sq[0]+ sq[1])], \n",
    "    [0, 0, 1, 0.234 - sq[2]], [0, 0, 0, 1]])\n",
    "\n",
    "    # inviamo alla posa di destinazione\n",
    "    d2 = targets_rossi[0]\n",
    "    D2 = matrixFromPose(d2)\n",
    "    q = sp.nsolve(T2-D2, sq, [0.1, 0.1, 0.1, 0.1], prec=6)\n",
    "    #print('q')\n",
    "    #print(q)\n",
    "    # spostiamo il robot nella posizione\n",
    "    retCode = sim.simxSetJointTargetPosition(clientID, joint1, q[0], sim.simx_opmode_blocking)\n",
    "    retCode = sim.simxSetJointTargetPosition(clientID, joint2, q[1], sim.simx_opmode_blocking)\n",
    "    retCode = sim.simxSetJointTargetPosition(clientID, joint3, 0, sim.simx_opmode_blocking)\n",
    "    retCode = sim.simxSetJointTargetPosition(clientID, joint4, q[3], sim.simx_opmode_blocking)\n",
    "    time.sleep(sleep_time)\n",
    "    # abbassiamo l'attuatore\n",
    "    retCode = sim.simxSetJointTargetPosition(clientID, joint3, q[2], sim.simx_opmode_blocking)\n",
    "    time.sleep(sleep_time)\n",
    "    # attiviamo l'end effector\n",
    "    setEffector(1)\n",
    "    time.sleep(sleep_time)\n",
    "    # alziamo l'attuatore\n",
    "    retCode = sim.simxSetJointTargetPosition(clientID, joint3, 0, sim.simx_opmode_blocking)\n",
    "    time.sleep(sleep_time)\n",
    "    # andiamo alla posizione per i cubi rossi\n",
    "    retCode = sim.simxSetJointTargetPosition(clientID, joint1, 0, sim.simx_opmode_blocking)\n",
    "    retCode = sim.simxSetJointTargetPosition(clientID, joint2, 0.75, sim.simx_opmode_blocking)\n",
    "    retCode = sim.simxSetJointTargetPosition(clientID, joint3, 0, sim.simx_opmode_blocking)\n",
    "    time.sleep(sleep_time)\n",
    "    # Disattiviamo l'attuatore\n",
    "    time.sleep(sleep_time)\n",
    "    setEffector(0)\n",
    "    targets_rossi.remove(targets_rossi[0])\n",
    "    print(\"Ne rimangono: \" + str(len(targets_rossi)))\n",
    "    #print(targets_rossi)\n",
    "    #print(\"R-ok\")\n",
    "\n",
    "while len(targets_blu) != 0:   \n",
    "    personPosition = personTracking()\n",
    "    if len(personPosition) != 0:\n",
    "        targets_blu = path_avoidance(targets_blu, personPosition)\n",
    "    \n",
    "    sq = sp.symbols(['q1','q2','q3','q4'])\n",
    "    T2 = sp.Matrix([[sp.cos(sq[0] + sq[1] + sq[3]), -sp.sin(sq[0] + sq[1] + sq[3]), 0, 0.467*sp.cos(sq[0]) + 0.4005*sp.cos(sq[0] + sq[1])], \n",
    "    [sp.sin(sq[0] + sq[1] + sq[3]), sp.cos(sq[0] + sq[1] + sq[3]), 0, 0.467*sp.sin(sq[0]) + 0.4005*sp.sin(sq[0]+ sq[1])], \n",
    "    [0, 0, 1, 0.234 - sq[2]], [0, 0, 0, 1]])\n",
    "    # inviamo alla posa di destinazione\n",
    "    d2 = targets_blu[0]\n",
    "    D2 = matrixFromPose(d2)\n",
    "    q = sp.nsolve(T2-D2, sq, [0.1, 0.1, 0.1, 0.1], prec=6)\n",
    "    #print('q')\n",
    "    #print(q)\n",
    "    # spostiamo il robot nella posizione\n",
    "    retCode = sim.simxSetJointTargetPosition(clientID, joint1, q[0], sim.simx_opmode_blocking)\n",
    "    retCode = sim.simxSetJointTargetPosition(clientID, joint2, q[1], sim.simx_opmode_blocking)\n",
    "    retCode = sim.simxSetJointTargetPosition(clientID, joint3, 0, sim.simx_opmode_blocking)\n",
    "    retCode = sim.simxSetJointTargetPosition(clientID, joint4, q[3], sim.simx_opmode_blocking)\n",
    "    time.sleep(sleep_time)\n",
    "    # abbassiamo l'attuatore\n",
    "    retCode = sim.simxSetJointTargetPosition(clientID, joint3, q[2], sim.simx_opmode_blocking)\n",
    "    time.sleep(sleep_time)\n",
    "    # attiviamo l'end effector\n",
    "    setEffector(1)\n",
    "    time.sleep(sleep_time)\n",
    "    # alziamo l'attuatore\n",
    "    retCode = sim.simxSetJointTargetPosition(clientID, joint3, 0, sim.simx_opmode_blocking)\n",
    "    time.sleep(sleep_time)\n",
    "    # andiamo alla posizione per i cubi blu\n",
    "    retCode = sim.simxSetJointTargetPosition(clientID, joint1, 0, sim.simx_opmode_blocking)\n",
    "    retCode = sim.simxSetJointTargetPosition(clientID, joint2, 0, sim.simx_opmode_blocking)\n",
    "    retCode = sim.simxSetJointTargetPosition(clientID, joint3, 0, sim.simx_opmode_blocking)\n",
    "    time.sleep(sleep_time)\n",
    "    # Disattiviamo l'attuatore\n",
    "    time.sleep(sleep_time)\n",
    "    setEffector(0)\n",
    "    targets_blu.remove(targets_blu[0])\n",
    "    print(\"Ne rimangono: \" + str(len(targets_blu)))\n",
    "    #print(targets_blu)\n",
    "    #print(\"B-ok\")"
   ]
  }
 ],
 "metadata": {
  "colab": {
   "name": "Pick and Place con vision.ipynb",
   "provenance": []
  },
  "kernelspec": {
   "display_name": "Python 3 (ipykernel)",
   "language": "python",
   "name": "python3"
  },
  "language_info": {
   "codemirror_mode": {
    "name": "ipython",
    "version": 3
   },
   "file_extension": ".py",
   "mimetype": "text/x-python",
   "name": "python",
   "nbconvert_exporter": "python",
   "pygments_lexer": "ipython3",
   "version": "3.9.4"
  },
  "vscode": {
   "interpreter": {
    "hash": "b189beaed38bcc07b5a266c4524954796f37a294cbd35000c88e4656ba3f8f1e"
   }
  }
 },
 "nbformat": 4,
 "nbformat_minor": 1
}
