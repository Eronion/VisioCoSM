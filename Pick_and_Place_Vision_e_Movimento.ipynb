{
 "cells": [
  {
   "cell_type": "markdown",
   "metadata": {
    "id": "v_hvqVfJpBBF"
   },
   "source": [
    "<h2>Pick and Place with Vision</h2>\n",
    "\n",
    "<br>Richiede 'sim.py', 'simConst.py', 'remoteapi.dll' all'interno della stessa cartella del notebook jupyter.</br> \n",
    "<br> La scena implementata per CoppeliaSim è: MTB_Pick_N_Place.ttt</br> \n"
   ]
  },
  {
   "cell_type": "code",
   "execution_count": 1,
   "metadata": {
    "id": "37toPaJipBBH"
   },
   "outputs": [],
   "source": [
    "# Importiamo le librerie necessarie\n",
    "import sim          # libreria per connettersi con CoppeliaSim\n",
    "import sympy as sp  # libreria per il calcolo simbolico\n",
    "import time"
   ]
  },
  {
   "cell_type": "markdown",
   "metadata": {
    "id": "uuMMNEajpBBI"
   },
   "source": [
    "### 0. Verifichiamo che tutto funzioni...\n",
    "\n",
    "Il robot ha una ventosa all'estremità. Si attiva automaticamente quando ci si avvicina al cubo (1 mm o meno) e si disattiva quando il cubo viene posizionato sulla piattaforma (5 mm o meno)."
   ]
  },
  {
   "cell_type": "code",
   "execution_count": 2,
   "metadata": {
    "id": "CCVUv1jYpBBJ"
   },
   "outputs": [],
   "source": [
    "def connect(port):\n",
    "#Stabilire una connessione a VREP\n",
    "#la porta deve corrispondere alla porta di connessione in VREP\n",
    "#restituisce il numero del client o -1 se non riesce a stabilire una connessione\n",
    "    sim.simxFinish(-1) # just in case, close all opened connections\n",
    "    clientID=sim.simxStart('127.0.0.1',port,True,True,2000,5) # Connection\n",
    "    if clientID == 0: print(\"connected to\", port)\n",
    "    else: print(\"Could not connect\")\n",
    "    return clientID\n"
   ]
  },
  {
   "cell_type": "code",
   "execution_count": 3,
   "metadata": {
    "id": "QZfPSMWXpBBK"
   },
   "outputs": [],
   "source": [
    "def setEffector(val):\n",
    "# Azionare l'end-effector\n",
    "# val è un Int con valore 0 o 1 per disabilitare o abilitare l'attuatore finale.\n",
    "    res,retInts,retFloats,retStrings,retBuffer=sim.simxCallScriptFunction(clientID,\n",
    "        \"suctionPad\", sim.sim_scripttype_childscript,\"setEffector\",[val],[],[],\"\", sim.simx_opmode_blocking)\n",
    "    return res"
   ]
  },
  {
   "cell_type": "code",
   "execution_count": 4,
   "metadata": {
    "id": "-A-_EkM_pBBL",
    "outputId": "d2306480-098b-4124-c70e-a6b553158dde"
   },
   "outputs": [
    {
     "name": "stdout",
     "output_type": "stream",
     "text": [
      "connected to 19999\n",
      "33 17 20 23 26 35 36\n"
     ]
    }
   ],
   "source": [
    "# Abbiamo bisogno delle \"handle\" per le articolazioni e il manipulator\n",
    "clientID = connect(19999)\n",
    "\n",
    "retCode,effector=sim.simxGetObjectHandle(clientID,'effector',sim.simx_opmode_blocking)\n",
    "retCode,joint1=sim.simxGetObjectHandle(clientID,'MTB_joint1',sim.simx_opmode_blocking)\n",
    "retCode,joint2=sim.simxGetObjectHandle(clientID,'MTB_joint2',sim.simx_opmode_blocking)\n",
    "retCode,joint3=sim.simxGetObjectHandle(clientID,'MTB_joint3',sim.simx_opmode_blocking)\n",
    "retCode,joint4=sim.simxGetObjectHandle(clientID,'MTB_joint4',sim.simx_opmode_blocking)\n",
    "retCode,cuboRosso=sim.simxGetObjectHandle(clientID,'CuboRosso',sim.simx_opmode_blocking)\n",
    "retCode,cuboBlu=sim.simxGetObjectHandle(clientID,'CuboBlu',sim.simx_opmode_blocking)\n",
    "\n",
    "print(effector, joint1, joint2, joint3, joint4, cuboRosso, cuboBlu)"
   ]
  },
  {
   "cell_type": "code",
   "execution_count": 5,
   "metadata": {
    "id": "_Ec9QDy4pBBL"
   },
   "outputs": [],
   "source": [
    "# Inviamo le posizioni alle articolazioni\n",
    "q = [0, 0, 0.0]\n",
    "\n",
    "retCode = sim.simxSetJointTargetPosition(clientID, joint1, q[0], sim.simx_opmode_oneshot)\n",
    "retCode = sim.simxSetJointTargetPosition(clientID, joint2, q[1], sim.simx_opmode_oneshot)\n",
    "retCode = sim.simxSetJointTargetPosition(clientID, joint3, q[2], sim.simx_opmode_oneshot)\n"
   ]
  },
  {
   "cell_type": "code",
   "execution_count": 6,
   "metadata": {
    "id": "zT-wy4ydpBBM",
    "outputId": "bad02ff8-8d8c-453d-e119-65d4d62fffd0"
   },
   "outputs": [
    {
     "data": {
      "text/plain": [
       "0"
      ]
     },
     "execution_count": 6,
     "metadata": {},
     "output_type": "execute_result"
    }
   ],
   "source": [
    "# Attiviamo o disattiviamo l'attuatore finale\n",
    "setEffector(0)"
   ]
  },
  {
   "cell_type": "markdown",
   "metadata": {
    "id": "g177IE6XpBBM"
   },
   "source": [
    "###  1. Prepariamo le informazioni necessarie\n",
    "Dalla matrice della cinematica diretta calcoliamo la cinematica inversa."
   ]
  },
  {
   "cell_type": "code",
   "execution_count": 7,
   "metadata": {
    "id": "B_lkq7IVpBBN",
    "outputId": "dbc99c6d-cbac-45ce-ec0f-62bad432742d"
   },
   "outputs": [
    {
     "data": {
      "text/latex": [
       "$\\displaystyle \\left[\\begin{matrix}\\cos{\\left(q_{1} + q_{2} + q_{4} \\right)} & - \\sin{\\left(q_{1} + q_{2} + q_{4} \\right)} & 0 & 0.467 \\cos{\\left(q_{1} \\right)} + 0.4005 \\cos{\\left(q_{1} + q_{2} \\right)}\\\\\\sin{\\left(q_{1} + q_{2} + q_{4} \\right)} & \\cos{\\left(q_{1} + q_{2} + q_{4} \\right)} & 0 & 0.467 \\sin{\\left(q_{1} \\right)} + 0.4005 \\sin{\\left(q_{1} + q_{2} \\right)}\\\\0 & 0 & 1 & 0.234 - q_{3}\\\\0 & 0 & 0 & 1\\end{matrix}\\right]$"
      ],
      "text/plain": [
       "Matrix([\n",
       "[cos(q1 + q2 + q4), -sin(q1 + q2 + q4), 0, 0.467*cos(q1) + 0.4005*cos(q1 + q2)],\n",
       "[sin(q1 + q2 + q4),  cos(q1 + q2 + q4), 0, 0.467*sin(q1) + 0.4005*sin(q1 + q2)],\n",
       "[                0,                  0, 1,                          0.234 - q3],\n",
       "[                0,                  0, 0,                                   1]])"
      ]
     },
     "execution_count": 7,
     "metadata": {},
     "output_type": "execute_result"
    }
   ],
   "source": [
    "# 1. Espressioni della cinematica diretta\n",
    "\n",
    "q1 = sp.symbols('q1') # angolo dell'articolazione rotazionale joint1, in radianti\n",
    "q2 = sp.symbols('q2') # angolo dell'articolazione rotazionale joint2, in radianti\n",
    "q3 = sp.symbols('q3') # posizione dell'articolazione prismatica joint3, in metri\n",
    "q4 = sp.symbols('q4') # angolo dell'articolazione rotazionale joint4, in radianti\n",
    "\n",
    "T = sp.Matrix([[sp.cos(q1 + q2 + q4), -sp.sin(q1 + q2 + q4), 0, 0.467*sp.cos(q1) + 0.4005*sp.cos(q1 + q2)],\n",
    "            [sp.sin(q1 + q2 + q4), sp.cos(q1 + q2 + q4), 0, 0.467*sp.sin(q1) + 0.4005*sp.sin(q1 + q2)], \n",
    "            [0, 0, 1, 0.234 - q3], \n",
    "            [0, 0, 0, 1]])\n",
    "T"
   ]
  },
  {
   "cell_type": "markdown",
   "metadata": {
    "id": "ynoBqR1spBBO"
   },
   "source": [
    "###  2. Otteniamo la posizione del punto di destinazione\n"
   ]
  },
  {
   "cell_type": "code",
   "execution_count": 8,
   "metadata": {
    "id": "eBxnnnRspBBP"
   },
   "outputs": [],
   "source": [
    "def matrixFromPose(pose):\n",
    "    # pose = [x, y, z, alpha, beta, gamma]\n",
    "    # x, y, z en metros\n",
    "    # alpha, beta, gamma en radianes\n",
    "    x, y, z = pose[0], pose[1], pose[2]\n",
    "    alpha, beta, gamma = pose[3], pose[4], pose[5]\n",
    "    Ra = sp.Matrix([[1, 0, 0, 0],\n",
    "                   [0, sp.cos(alpha), -sp.sin(alpha), 0],\n",
    "                   [0, sp.sin(alpha), sp.cos(alpha), 0],\n",
    "                   [0, 0, 0, 1]])\n",
    "    Rb = sp.Matrix([[sp.cos(beta), 0, sp.sin(beta), 0],\n",
    "                   [0, 1, 0, 0],\n",
    "                   [-sp.sin(beta), 0, sp.cos(beta), 0],\n",
    "                   [0, 0, 0, 1]])\n",
    "    Rc = sp.Matrix([[sp.cos(gamma), -sp.sin(gamma), 0, 0],\n",
    "                   [sp.sin(gamma), sp.cos(gamma), 0, 0],\n",
    "                   [0, 0, 1, 0],\n",
    "                   [0, 0, 0, 1]])\n",
    "    T = Ra*Rb*Rc\n",
    "    T[0,3] = x\n",
    "    T[1,3] = y\n",
    "    T[2,3] = z\n",
    "    return T\n",
    "\n",
    "# Definiamo una funzione per costruire la matrice di rotazione\n",
    "# Partendo dagli angoli di Eulero\n",
    "\n",
    "def matrixFromEuler(alpha, beta, gamma):\n",
    "    # theta y alpha en radianes\n",
    "    # d y a en metros\n",
    "    Ra = sp.Matrix([[1, 0, 0, 0],\n",
    "                   [0, sp.cos(alpha), -sp.sin(alpha), 0],\n",
    "                   [0, sp.sin(alpha), sp.cos(alpha), 0],\n",
    "                   [0, 0, 0, 1]])\n",
    "    Rb = sp.Matrix([[sp.cos(beta), 0, sp.sin(beta), 0],\n",
    "                   [0, 1, 0, 0],\n",
    "                   [-sp.sin(beta), 0, sp.cos(beta), 0],\n",
    "                   [0, 0, 0, 1]])\n",
    "    Rc = sp.Matrix([[sp.cos(gamma), -sp.sin(gamma), 0, 0],\n",
    "                   [sp.sin(gamma), sp.cos(gamma), 0, 0],\n",
    "                   [0, 0, 1, 0],\n",
    "                   [0, 0, 0, 1]])\n",
    "    T = Ra*Rb*Rc\n",
    "    return T\n",
    "\n",
    "# Connettiti al server e ottieni handle\n",
    "def getHandlers():\n",
    "    retCode,effector=sim.simxGetObjectHandle(clientID,'effector',sim.simx_opmode_blocking)\n",
    "    retCode,target=sim.simxGetObjectHandle(clientID,'CuboRosso',sim.simx_opmode_blocking)\n",
    "    retCode,joint1=sim.simxGetObjectHandle(clientID,'MTB_joint1',sim.simx_opmode_blocking)\n",
    "    retCode,joint2=sim.simxGetObjectHandle(clientID,'MTB_joint2',sim.simx_opmode_blocking)\n",
    "    retCode,joint3=sim.simxGetObjectHandle(clientID,'MTB_joint3',sim.simx_opmode_blocking)\n",
    "    retCode,joint4=sim.simxGetObjectHandle(clientID,'MTB_joint4',sim.simx_opmode_blocking)\n",
    "    joint = [joint1, joint2, joint3, joint4]\n",
    "    return joint, effector, target"
   ]
  },
  {
   "cell_type": "code",
   "execution_count": 9,
   "metadata": {
    "id": "ofZ3TfDJpBBQ",
    "outputId": "884d736f-b3f6-4b0a-efce-1d2dba4758c6"
   },
   "outputs": [
    {
     "data": {
      "text/latex": [
       "$\\displaystyle \\left[\\begin{matrix}\\frac{\\sqrt{2}}{2} & - \\frac{\\sqrt{2}}{2} & 0 & 0\\\\\\frac{1}{2} & \\frac{1}{2} & - \\frac{\\sqrt{2}}{2} & 0\\\\\\frac{1}{2} & \\frac{1}{2} & \\frac{\\sqrt{2}}{2} & 0\\\\0 & 0 & 0 & 1\\end{matrix}\\right]$"
      ],
      "text/plain": [
       "Matrix([\n",
       "[sqrt(2)/2, -sqrt(2)/2,          0, 0],\n",
       "[      1/2,        1/2, -sqrt(2)/2, 0],\n",
       "[      1/2,        1/2,  sqrt(2)/2, 0],\n",
       "[        0,          0,          0, 1]])"
      ]
     },
     "execution_count": 9,
     "metadata": {},
     "output_type": "execute_result"
    }
   ],
   "source": [
    "matrixFromEuler(45*sp.pi/180, 0, 45*sp.pi/180)"
   ]
  },
  {
   "cell_type": "code",
   "execution_count": 10,
   "metadata": {
    "id": "HTZNd1XapBBQ",
    "outputId": "c93f87ce-d26b-4db9-84f4-6c2d4fc8edf2"
   },
   "outputs": [
    {
     "data": {
      "text/latex": [
       "$\\displaystyle \\left[\\begin{matrix}\\frac{\\sqrt{2}}{2} & - \\frac{\\sqrt{2}}{2} & 0 & 0\\\\\\frac{\\sqrt{2}}{2} & \\frac{\\sqrt{2}}{2} & 0 & 0\\\\0 & 0 & 1 & 0\\\\0 & 0 & 0 & 1\\end{matrix}\\right]$"
      ],
      "text/plain": [
       "Matrix([\n",
       "[sqrt(2)/2, -sqrt(2)/2, 0, 0],\n",
       "[sqrt(2)/2,  sqrt(2)/2, 0, 0],\n",
       "[        0,          0, 1, 0],\n",
       "[        0,          0, 0, 1]])"
      ]
     },
     "execution_count": 10,
     "metadata": {},
     "output_type": "execute_result"
    }
   ],
   "source": [
    "#  A partire dalle coordinate della posizione e gli angoli di Eulero otteniamo \n",
    "#  la matrice di trasformazione\n",
    "\n",
    "x = 0.0\n",
    "y = 0.0\n",
    "z = 0.0\n",
    "alpha = 0\n",
    "beta = 0\n",
    "gamma = 45*sp.pi/180\n",
    "\n",
    "t = sp.Matrix([[1, 0, 0, x],\n",
    "               [0, 1, 0, y], \n",
    "               [0, 0, 1, z], \n",
    "               [0, 0, 0, 1]])\n",
    "\n",
    "D = t*matrixFromEuler(alpha, beta, gamma)\n",
    "D\n"
   ]
  },
  {
   "cell_type": "markdown",
   "metadata": {
    "id": "qSwdKzj_pBBR"
   },
   "source": [
    "###  3. Calcoliamo la cinematica inversa\n"
   ]
  },
  {
   "cell_type": "code",
   "execution_count": 11,
   "metadata": {
    "id": "YMkb1_1kpBBS",
    "outputId": "1d16eef3-7578-4649-fef6-6265fe0dad3a"
   },
   "outputs": [
    {
     "data": {
      "text/latex": [
       "$\\displaystyle \\left[\\begin{matrix}\\cos{\\left(q_{1} + q_{2} + q_{4} \\right)} - \\frac{\\sqrt{2}}{2} & - \\sin{\\left(q_{1} + q_{2} + q_{4} \\right)} + \\frac{\\sqrt{2}}{2} & 0 & 0.467 \\cos{\\left(q_{1} \\right)} + 0.4005 \\cos{\\left(q_{1} + q_{2} \\right)}\\\\\\sin{\\left(q_{1} + q_{2} + q_{4} \\right)} - \\frac{\\sqrt{2}}{2} & \\cos{\\left(q_{1} + q_{2} + q_{4} \\right)} - \\frac{\\sqrt{2}}{2} & 0 & 0.467 \\sin{\\left(q_{1} \\right)} + 0.4005 \\sin{\\left(q_{1} + q_{2} \\right)}\\\\0 & 0 & 0 & 0.234 - q_{3}\\\\0 & 0 & 0 & 0\\end{matrix}\\right]$"
      ],
      "text/plain": [
       "Matrix([\n",
       "[cos(q1 + q2 + q4) - sqrt(2)/2, -sin(q1 + q2 + q4) + sqrt(2)/2, 0, 0.467*cos(q1) + 0.4005*cos(q1 + q2)],\n",
       "[sin(q1 + q2 + q4) - sqrt(2)/2,  cos(q1 + q2 + q4) - sqrt(2)/2, 0, 0.467*sin(q1) + 0.4005*sin(q1 + q2)],\n",
       "[                            0,                              0, 0,                          0.234 - q3],\n",
       "[                            0,                              0, 0,                                   0]])"
      ]
     },
     "execution_count": 11,
     "metadata": {},
     "output_type": "execute_result"
    }
   ],
   "source": [
    "# La funzione nsolve di sympy cerca valori che eguagliano a zero l'espressione.\n",
    "# Se vogliamo T=D, cerchiamo T-D = 0\n",
    "\n",
    "T-D\n"
   ]
  },
  {
   "cell_type": "code",
   "execution_count": 12,
   "metadata": {
    "id": "acfqTmpZpBBS",
    "outputId": "0093b054-4218-4625-94f5-f1c2dacd08c6"
   },
   "outputs": [
    {
     "name": "stdout",
     "output_type": "stream",
     "text": [
      "Could not find a solution\n"
     ]
    },
    {
     "data": {
      "text/plain": [
       "[0, 0, 0, 0]"
      ]
     },
     "execution_count": 12,
     "metadata": {},
     "output_type": "execute_result"
    }
   ],
   "source": [
    "# Cerchiamo una soluzione diminuendo la precisione per facilitare il calcolo.\n",
    "# Normalmente sarebbe a 15 cifre significative\n",
    "\n",
    "try:\n",
    "    q = sp.nsolve((T-D), (q1, q2, q3, q4), (1, 1, 1, 1), prec=6)\n",
    "except:\n",
    "    print('Could not find a solution')\n",
    "    q = [0, 0, 0, 0]\n",
    "q\n"
   ]
  },
  {
   "cell_type": "code",
   "execution_count": 13,
   "metadata": {
    "id": "p6YKWE7jpBBS",
    "outputId": "2c244c5f-7e75-4a42-e659-fa04c9bb2732"
   },
   "outputs": [
    {
     "name": "stdout",
     "output_type": "stream",
     "text": [
      "[0.867459774017334, 3.5500597732607275e-05, 0.23353996872901917]\n"
     ]
    }
   ],
   "source": [
    "# verifichiamo la posizione dell'attuatore\n",
    "\n",
    "retCode,pos=sim.simxGetObjectPosition(clientID, effector, -1, sim.simx_opmode_blocking)\n",
    "print(pos)\n"
   ]
  },
  {
   "cell_type": "code",
   "execution_count": 14,
   "metadata": {
    "id": "Z-xsR-hVpBBT",
    "outputId": "38f0bff4-23a4-4b32-d85b-80e7c8138096"
   },
   "outputs": [
    {
     "name": "stdout",
     "output_type": "stream",
     "text": [
      "0.012109852890872502\n",
      "0.018032796161015916\n",
      "-6.0422198438898965e-05\n"
     ]
    }
   ],
   "source": [
    "# e l'orientamento\n",
    "\n",
    "retCode,eul=sim.simxGetObjectOrientation(clientID, effector, -1, sim.simx_opmode_blocking)\n",
    "print(eul[0]*180/3.1416)\n",
    "print(eul[1]*180/3.1416)\n",
    "print(eul[2]*180/3.1416)\n"
   ]
  },
  {
   "cell_type": "markdown",
   "metadata": {
    "id": "JZLWuJ8kpBBT"
   },
   "source": [
    "Utilizzando la procedura per il calcolo della cinematica inversa, costruisci una sequenza di movimenti per allineare i tre cubi, uno sopra l'altro. Seguire la procedura riportata di seguito: 1. Prendi la posizione del primo cubo, prendilo da quella posizione e posizionalo in qualsiasi posizione tu decida. Ricordarsi di attivare e disattivare l'attuatore finale con la funzione setEffector() 2. Ottieni la posizione e l'orientamento del secondo cubo, prendilo dalla sua posizione e posizionalo sul primo cubo, assegnando l'orientamento necessario all'angolo gamma, in modo che sia perfettamente allineato con il primo cubo. 3. Ripetere la procedura per il terzo cubo, in modo che sia sul secondo e perfettamente allineato con gli altri due.\n",
    "\n",
    "Nota: si consideri che l'unico orientamento che può essere gestito è l'angolo gamma (rotazione rispetto all'asse z, rispetto al sistema di coordinate del mondo). Suggerimento: ottieni automaticamente la posizione e l'orientamento di ogni cubo ed esegui calcoli da queste coordinate. Ricorda che le coordinate che otterrai saranno le coordinate del centro dell'oggetto."
   ]
  },
  {
   "cell_type": "code",
   "execution_count": 15,
   "metadata": {
    "id": "xsJqO2ENpBBT",
    "outputId": "80be2206-5fcd-40e3-8787-02bdd4eae152"
   },
   "outputs": [
    {
     "name": "stdout",
     "output_type": "stream",
     "text": [
      "connected to 19999\n",
      "[1000, 1000]\n"
     ]
    },
    {
     "data": {
      "image/png": "[encoded data removed]",
      "text/plain": [
       "<Figure size 432x288 with 1 Axes>"
      ]
     },
     "metadata": {
      "needs_background": "light"
     },
     "output_type": "display_data"
    },
    {
     "data": {
      "image/png": "[encoded data removed]",
      "text/plain": [
       "<Figure size 432x288 with 1 Axes>"
      ]
     },
     "metadata": {
      "needs_background": "light"
     },
     "output_type": "display_data"
    },
    {
     "data": {
      "image/png": "[encoded data removed]",
      "text/plain": [
       "<Figure size 432x288 with 1 Axes>"
      ]
     },
     "metadata": {
      "needs_background": "light"
     },
     "output_type": "display_data"
    },
    {
     "name": "stdout",
     "output_type": "stream",
     "text": [
      "[[512, 851], [662, 815], [436, 751], [596, 731], [531, 596], [584, 235], [492, 133], [691, 116]]\n",
      "[[23, 23, 241], [23, 23, 241], [241, 23, 23], [241, 23, 23], [241, 23, 23], [23, 23, 241], [23, 23, 241], [241, 23, 23]]\n",
      "RED GREEN BLU\n"
     ]
    }
   ],
   "source": [
    "clientID = connect(19999)\n",
    "retCode,sensorHandle=sim.simxGetObjectHandle(clientID,'Vision_sensor',sim.simx_opmode_blocking)\n",
    "\n",
    "# Otteniamo l'immagine\n",
    "retCode, resolution, img=sim.simxGetVisionSensorImage(clientID,sensorHandle,0,sim.simx_opmode_oneshot_wait)\n",
    "\n",
    "import cv2                      # opencv\n",
    "import matplotlib.pyplot as plt # pyplot\n",
    "import numpy as np \n",
    "       \n",
    "image = np.array(img, dtype=np.uint8)\n",
    "image.resize([resolution[1],resolution[0],3])\n",
    "origninale_image= image\n",
    "print(resolution)\n",
    "\n",
    "#cv2.imshow('image', img)\n",
    "#cv2.waitKey(0)\n",
    "#cv2.destroyAllWindows()\n",
    "\n",
    "plt.imshow(image)\n",
    "plt.show()\n",
    "\n",
    "#convert image into greyscale mode\n",
    "gray_image = cv2.cvtColor(image, cv2.COLOR_BGR2GRAY)\n",
    "\n",
    "#find threshold of the image\n",
    "_, thrash = cv2.threshold(gray_image, 100, 250, cv2.THRESH_BINARY)\n",
    "contours, _ = cv2.findContours(thrash, cv2.RETR_TREE, cv2.CHAIN_APPROX_NONE)\n",
    "plt.imshow(thrash)\n",
    "plt.show()\n",
    "centers=[]\n",
    "colori=[]\n",
    "for contour in contours:\n",
    "    shape = cv2.approxPolyDP(contour, 0.01*cv2.arcLength(contour, True), True)\n",
    "    if shape[0][0][0] != 0:\n",
    "        x_cor = shape.ravel()[0]\n",
    "        y_cor = shape.ravel()[1]\n",
    "\n",
    "        if len(shape) ==4:\n",
    "            #shape cordinates\n",
    "            x,y,w,h = cv2.boundingRect(shape)\n",
    "\n",
    "            #width:height\n",
    "            aspectRatio = float(w)/h\n",
    "            cv2.drawContours(image, [shape], 0, (0,255,0), 4)\n",
    "            if aspectRatio >= 0.9 and aspectRatio <=1.1:\n",
    "                cv2.putText(image, \"Square\", (x_cor, y_cor), cv2.FONT_HERSHEY_COMPLEX, 0.5, (0,0,0))\n",
    "                M = cv2.moments(contour)\n",
    "                if M['m00'] != 0:\n",
    "                    cx = int(M['m10']/M['m00'])\n",
    "                    cy = int(M['m01']/M['m00'])\n",
    "                    retCode, resolution, img2=sim.simxGetVisionSensorImage(clientID,sensorHandle,0,sim.simx_opmode_oneshot_wait)\n",
    "                    image2 = np.array(img2, dtype=np.uint8)\n",
    "                    image2.resize([resolution[1],resolution[0],3])\n",
    "                    (b, g, r) = image2[cy,cx]\n",
    "                    colori.append([b, g, r])\n",
    "                    cv2.drawContours(image, [contour], -1, (0, 255, 0), 2)\n",
    "                    cv2.circle(image, (cx, cy), 7, (0, 255, 255), -1)\n",
    "                    cv2.putText(image, \"center\", (cx - 20, cy - 20),cv2.FONT_HERSHEY_SIMPLEX, 0.5, (0, 0, 0), 2)\n",
    "                    centers.append([cx,cy])\n",
    "            else:\n",
    "                cv2.putText(image, \"Rectangle\", (x_cor, y_cor), cv2.FONT_HERSHEY_COMPLEX, 0.5, (255,0,0))\n",
    "                \n",
    "    \"\"\"    M = cv2.moments(contour)\n",
    "      if M['m00'] != 0:\n",
    "            cx = int(M['m10']/M['m00'])\n",
    "            cy = int(M['m01']/M['m00'])\n",
    "            retCode, resolution, img2=sim.simxGetVisionSensorImage(clientID,sensorHandle,0,sim.simx_opmode_oneshot_wait)\n",
    "            image2 = np.array(img2, dtype=np.uint8)\n",
    "            image2.resize([resolution[1],resolution[0],3])\n",
    "            (b, g, r) = image2[cy,cx]\n",
    "            colori.append([b, g, r])\n",
    "            cv2.drawContours(image, [contour], -1, (0, 255, 0), 2)\n",
    "            cv2.circle(image, (cx, cy), 7, (0, 255, 255), -1)\n",
    "            cv2.putText(image, \"center\", (cx - 20, cy - 20),\n",
    "                       cv2.FONT_HERSHEY_SIMPLEX, 0.5, (0, 0, 0), 2)\n",
    "            \n",
    "        print(f\"x: {cx} y: {cy}\")\"\"\"  \n",
    "        \n",
    "\n",
    "    \n",
    "        \n",
    "plt.imshow(image)\n",
    "plt.show()\n",
    "print(centers)\n",
    "print(colori)\n",
    "print(\"RED GREEN BLU\")\n",
    "\n"
   ]
  },
  {
   "cell_type": "code",
   "execution_count": 16,
   "metadata": {
    "id": "onKrkAjapBBU",
    "outputId": "e0079aa1-70f3-4874-f0c7-3a41583cc1f5"
   },
   "outputs": [
    {
     "name": "stdout",
     "output_type": "stream",
     "text": [
      "POSIZIONE CAMERA\n",
      "[0.699999988079071, -0.10000000149011612, 1.0]\n",
      "POSIZIONE CUBO ROSSO\n",
      "[0.6676894426345825, -0.19687122106552124, 0.024999920278787613]\n",
      "diff from camera to target\n",
      "0.032310545444488525 0.09687121957540512\n",
      "diff calculated from the image\n",
      "-0.012\n",
      "-0.35100000000000003\n",
      "[0.687999988079071, -0.45100000149011615, 0.05, 0, 0, 0]\n",
      "connected to 19999\n",
      "Ho posato un cubo blu nella sua posizione\n",
      "diff calculated from the image\n",
      "-0.162\n",
      "-0.315\n",
      "[0.537999988079071, -0.4150000014901161, 0.05, 0, 0, 0]\n",
      "connected to 19999\n",
      "Ho posato un cubo blu nella sua posizione\n",
      "diff calculated from the image\n",
      "0.064\n",
      "-0.251\n",
      "[0.7639999880790711, -0.3510000014901161, 0.05, 0, 0, 0]\n",
      "connected to 19999\n",
      "Ho posato un cubo rosso nella sua posizione\n",
      "diff calculated from the image\n",
      "-0.096\n",
      "-0.231\n",
      "[0.6039999880790711, -0.3310000014901161, 0.05, 0, 0, 0]\n",
      "connected to 19999\n",
      "Ho posato un cubo rosso nella sua posizione\n",
      "diff calculated from the image\n",
      "-0.031\n",
      "-0.096\n",
      "[0.668999988079071, -0.19600000149011612, 0.05, 0, 0, 0]\n",
      "connected to 19999\n",
      "Ho posato un cubo rosso nella sua posizione\n",
      "diff calculated from the image\n",
      "-0.084\n",
      "0.265\n",
      "[0.6159999880790711, 0.1649999985098839, 0.05, 0, 0, 0]\n",
      "connected to 19999\n",
      "Ho posato un cubo blu nella sua posizione\n",
      "diff calculated from the image\n",
      "0.008\n",
      "0.367\n",
      "[0.707999988079071, 0.2669999985098839, 0.05, 0, 0, 0]\n",
      "connected to 19999\n",
      "Ho posato un cubo blu nella sua posizione\n",
      "diff calculated from the image\n",
      "-0.191\n",
      "0.384\n",
      "[0.508999988079071, 0.2839999985098839, 0.05, 0, 0, 0]\n",
      "connected to 19999\n",
      "Ho posato un cubo rosso nella sua posizione\n"
     ]
    }
   ],
   "source": [
    "# Notes on operative modes:\n",
    "# Blocking mode: The command is sent, and the function will wait for the actual reply and return it (if the function doesn't time out). \n",
    "# The received command reply will be removed from the inbox buffer (other operation modes will leave their command replies in the inbox buffer).\n",
    "\n",
    "# Otteniamo handle della camera e le coordinate\n",
    "retCode,camera=sim.simxGetObjectHandle(clientID,'Vision_sensor',sim.simx_opmode_blocking)\n",
    "res, posizioneCamera = sim.simxGetObjectPosition(clientID, camera, -1, sim.simx_opmode_blocking)\n",
    "print(\"POSIZIONE CAMERA\")\n",
    "print(posizioneCamera)\n",
    "res, posizioneCuboRosso = sim.simxGetObjectPosition(clientID, cuboRosso, -1, sim.simx_opmode_blocking)\n",
    "print(\"POSIZIONE CUBO ROSSO\")\n",
    "print(posizioneCuboRosso)\n",
    "xdiff = posizioneCamera[0] - posizioneCuboRosso[0]\n",
    "ydiff = posizioneCamera[1] - posizioneCuboRosso[1]\n",
    "\n",
    "print(\"diff from camera to target\")\n",
    "print(xdiff, ydiff)\n",
    "n1 = 0\n",
    "n2 = 0\n",
    "m = 0\n",
    "for c in centers:\n",
    "    if colori[m][0]>200: #Se il cubo è rosso RGB--> R>200\n",
    "      # In pratica prendo la risoluzione dell'immagine e la divido per 2 in modo\n",
    "      # che sono sulla coordinata centrale, dopo sottraggo la coordinata X del \n",
    "      # centro del primo cubo e moltiplico per 0.001 per passare da pixel a \n",
    "      # millimetri perché avendo impostato io l'unità di misura ho fatto in modo\n",
    "      # che 1 pixel coprisse 1 millimetro nel mondo reale... Quindi immXdiff é \n",
    "      # la differenza tra coordinata X del centro della camera e coordinata X \n",
    "      # del centro del cubo... Sommata questa differenza alla posizione della \n",
    "      # camera che é nota si trova la posizione target\n",
    "        immXdiff = ((resolution[0]/2) - c[0]) * 0.001\n",
    "        immYdiff = ((resolution[1]/2) - c[1]) * 0.001\n",
    "        print(\"diff calculated from the image\")\n",
    "        print(immXdiff)\n",
    "        print(immYdiff)\n",
    "        posizioneTarget=[0,0,0]\n",
    "        posizioneTarget[0]=posizioneCamera[0] + immXdiff\n",
    "        posizioneTarget[1]=posizioneCamera[1] + immYdiff\n",
    "        posizioneTarget[2]=0.05\n",
    "        eulC=[0,0,0]\n",
    "        targetP = posizioneTarget + eulC\n",
    "        print(targetP)\n",
    "        sq = sp.symbols(['q1','q2','q3','q4'])\n",
    "        T2 = sp.Matrix([[sp.cos(sq[0] + sq[1] + sq[3]), -sp.sin(sq[0] + sq[1] + sq[3]), 0, 0.467*sp.cos(sq[0]) + 0.4005*sp.cos(sq[0] + sq[1])], \n",
    "                       [sp.sin(sq[0] + sq[1] + sq[3]), sp.cos(sq[0] + sq[1] + sq[3]), 0, 0.467*sp.sin(sq[0]) + 0.4005*sp.sin(sq[0]+ sq[1])], \n",
    "                       [0, 0, 1, 0.234 - sq[2]], [0, 0, 0, 1]])\n",
    "\n",
    "        # inviamo alla posa di destinazione\n",
    "        d2 = targetP\n",
    "        D2 = matrixFromPose(d2)\n",
    "        q = sp.nsolve(T2-D2, sq, [0.1, 0.1, 0.1, 0.1], prec=6)\n",
    "        #print('q')\n",
    "        #print(q)\n",
    "        clientID = connect(19999)\n",
    "        # spostiamo il robot nella posizione\n",
    "        retCode = sim.simxSetJointTargetPosition(clientID, joint1, q[0], sim.simx_opmode_blocking)\n",
    "        retCode = sim.simxSetJointTargetPosition(clientID, joint2, q[1], sim.simx_opmode_blocking)\n",
    "        retCode = sim.simxSetJointTargetPosition(clientID, joint3, 0, sim.simx_opmode_blocking)\n",
    "        retCode = sim.simxSetJointTargetPosition(clientID, joint4, q[3], sim.simx_opmode_blocking)\n",
    "        time.sleep(1)\n",
    "        # abbassiamo l'attuatore\n",
    "        retCode = sim.simxSetJointTargetPosition(clientID, joint3, q[2], sim.simx_opmode_blocking)\n",
    "        time.sleep(1)\n",
    "        # attiviamo l'end effector\n",
    "        setEffector(1)\n",
    "        time.sleep(1)\n",
    "        # alziamo l'attuatore\n",
    "        retCode = sim.simxSetJointTargetPosition(clientID, joint3, 0, sim.simx_opmode_blocking)\n",
    "        time.sleep(1)\n",
    "        # andiamo alla posizione per i cubi rossi\n",
    "        retCode = sim.simxSetJointTargetPosition(clientID, joint1, 0, sim.simx_opmode_blocking)\n",
    "        retCode = sim.simxSetJointTargetPosition(clientID, joint2, 0.5, sim.simx_opmode_blocking)\n",
    "        retCode = sim.simxSetJointTargetPosition(clientID, joint3, 0, sim.simx_opmode_blocking)\n",
    "        time.sleep(1)\n",
    "        # abbassiamo il cubo\n",
    "        retCode = sim.simxSetJointTargetPosition(clientID, joint3, q[2] - (n1*0.05), sim.simx_opmode_blocking)\n",
    "        time.sleep(1)\n",
    "        # Disattiviamo l'attuatore\n",
    "        time.sleep(1)\n",
    "        setEffector(0)\n",
    "        # e lo alziamo\n",
    "        retCode = sim.simxSetJointTargetPosition(clientID, joint3, 0, sim.simx_opmode_blocking)\n",
    "        n1 = n1+1\n",
    "        print(\"Ho posato un cubo rosso nella sua posizione\")\n",
    "    else:\n",
    "        immXdiff = ((resolution[0]/2) - c[0]) * 0.001\n",
    "        immYdiff = ((resolution[1]/2) - c[1]) * 0.001\n",
    "        print(\"diff calculated from the image\")\n",
    "        print(immXdiff)\n",
    "        print(immYdiff)\n",
    "        posizioneTarget=[0,0,0]\n",
    "        posizioneTarget[0]=posizioneCamera[0] + immXdiff\n",
    "        posizioneTarget[1]=posizioneCamera[1] + immYdiff\n",
    "        posizioneTarget[2]=0.05\n",
    "        eulC=[0,0,0]\n",
    "        targetP = posizioneTarget + eulC\n",
    "        print(targetP)\n",
    "        sq = sp.symbols(['q1','q2','q3','q4'])\n",
    "        T2 = sp.Matrix([[sp.cos(sq[0] + sq[1] + sq[3]), -sp.sin(sq[0] + sq[1] + sq[3]), 0, 0.467*sp.cos(sq[0]) + 0.4005*sp.cos(sq[0] + sq[1])], \n",
    "                       [sp.sin(sq[0] + sq[1] + sq[3]), sp.cos(sq[0] + sq[1] + sq[3]), 0, 0.467*sp.sin(sq[0]) + 0.4005*sp.sin(sq[0]+ sq[1])], \n",
    "                       [0, 0, 1, 0.234 - sq[2]], [0, 0, 0, 1]])\n",
    "\n",
    "        # inviamo alla posa di destinazione\n",
    "        d2 = targetP\n",
    "        D2 = matrixFromPose(d2)\n",
    "        q = sp.nsolve(T2-D2, sq, [0.1, 0.1, 0.1, 0.1], prec=6)\n",
    "        #print('q')\n",
    "        #print(q)\n",
    "        clientID = connect(19999)\n",
    "        # spostiamo il robot nella posizione\n",
    "        retCode = sim.simxSetJointTargetPosition(clientID, joint1, q[0], sim.simx_opmode_blocking)\n",
    "        retCode = sim.simxSetJointTargetPosition(clientID, joint2, q[1], sim.simx_opmode_blocking)\n",
    "        retCode = sim.simxSetJointTargetPosition(clientID, joint3, 0, sim.simx_opmode_blocking)\n",
    "        retCode = sim.simxSetJointTargetPosition(clientID, joint4, q[3], sim.simx_opmode_blocking)\n",
    "        time.sleep(1)\n",
    "        # abbassiamo l'attuatore\n",
    "        retCode = sim.simxSetJointTargetPosition(clientID, joint3, q[2], sim.simx_opmode_blocking)\n",
    "        time.sleep(1)\n",
    "        # attiviamo l'end effector\n",
    "        setEffector(1)\n",
    "        time.sleep(1)\n",
    "        # alziamo l'attuatore\n",
    "        retCode = sim.simxSetJointTargetPosition(clientID, joint3, 0, sim.simx_opmode_blocking)\n",
    "        time.sleep(1)\n",
    "        # andiamo alla posizione per i cubi blu\n",
    "        retCode = sim.simxSetJointTargetPosition(clientID, joint1, 0, sim.simx_opmode_blocking)\n",
    "        retCode = sim.simxSetJointTargetPosition(clientID, joint2, 0, sim.simx_opmode_blocking)\n",
    "        retCode = sim.simxSetJointTargetPosition(clientID, joint3, 0, sim.simx_opmode_blocking)\n",
    "        time.sleep(1)\n",
    "        # abbassiamo il cubo\n",
    "        retCode = sim.simxSetJointTargetPosition(clientID, joint3, q[2] - (n2*0.05), sim.simx_opmode_blocking)\n",
    "        time.sleep(1)\n",
    "        # Disattiviamo l'attuatore\n",
    "        time.sleep(1)\n",
    "        setEffector(0)\n",
    "        # e lo alziamo\n",
    "        retCode = sim.simxSetJointTargetPosition(clientID, joint3, 0, sim.simx_opmode_blocking)\n",
    "        n2 = n2+1\n",
    "        print(\"Ho posato un cubo blu nella sua posizione\")\n",
    "    m=m+1"
   ]
  }
 ],
 "metadata": {
  "colab": {
   "name": "Pick and Place con vision.ipynb",
   "provenance": []
  },
  "kernelspec": {
   "display_name": "Python 3 (ipykernel)",
   "language": "python",
   "name": "python3"
  },
  "language_info": {
   "codemirror_mode": {
    "name": "ipython",
    "version": 3
   },
   "file_extension": ".py",
   "mimetype": "text/x-python",
   "name": "python",
   "nbconvert_exporter": "python",
   "pygments_lexer": "ipython3",
   "version": "3.9.4"
  }
 },
 "nbformat": 4,
 "nbformat_minor": 1
}
